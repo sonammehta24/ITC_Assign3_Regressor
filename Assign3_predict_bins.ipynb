{
  "nbformat": 4,
  "nbformat_minor": 0,
  "metadata": {
    "colab": {
      "provenance": [],
      "toc_visible": true
    },
    "kernelspec": {
      "name": "python3",
      "display_name": "Python 3"
    },
    "language_info": {
      "name": "python"
    }
  },
  "cells": [
    {
      "cell_type": "code",
      "execution_count": 1,
      "metadata": {
        "id": "xf4acS9IbgbN"
      },
      "outputs": [],
      "source": [
        "import pandas as pd\n",
        "import numpy as np\n",
        "import matplotlib.pyplot as plt\n",
        "import seaborn as sns"
      ]
    },
    {
      "cell_type": "code",
      "source": [
        "df = pd.read_csv('/content/raw_house_data - raw_house_data.csv')"
      ],
      "metadata": {
        "id": "ZpipndM6br1q"
      },
      "execution_count": 2,
      "outputs": []
    },
    {
      "cell_type": "code",
      "source": [
        "df = df.dropna()"
      ],
      "metadata": {
        "id": "zw8bXR_XbyUu"
      },
      "execution_count": 7,
      "outputs": []
    },
    {
      "cell_type": "code",
      "source": [
        "df.shape"
      ],
      "metadata": {
        "colab": {
          "base_uri": "https://localhost:8080/"
        },
        "id": "Q2jWxrIYb4c3",
        "outputId": "4092d9d0-8525-48cf-c35d-978178708c79"
      },
      "execution_count": 8,
      "outputs": [
        {
          "output_type": "execute_result",
          "data": {
            "text/plain": [
              "(4370, 16)"
            ]
          },
          "metadata": {},
          "execution_count": 8
        }
      ]
    },
    {
      "cell_type": "code",
      "source": [
        "df.isnull().sum()"
      ],
      "metadata": {
        "colab": {
          "base_uri": "https://localhost:8080/",
          "height": 585
        },
        "collapsed": true,
        "id": "6RYHUYBzb67g",
        "outputId": "cdf0952c-ddcc-4481-ec49-9aac7f364542"
      },
      "execution_count": 9,
      "outputs": [
        {
          "output_type": "execute_result",
          "data": {
            "text/plain": [
              "MLS                 0\n",
              "sold_price          0\n",
              "zipcode             0\n",
              "longitude           0\n",
              "latitude            0\n",
              "lot_acres           0\n",
              "taxes               0\n",
              "year_built          0\n",
              "bedrooms            0\n",
              "bathrooms           0\n",
              "sqrt_ft             0\n",
              "garage              0\n",
              "kitchen_features    0\n",
              "fireplaces          0\n",
              "floor_covering      0\n",
              "HOA                 0\n",
              "dtype: int64"
            ],
            "text/html": [
              "<div>\n",
              "<style scoped>\n",
              "    .dataframe tbody tr th:only-of-type {\n",
              "        vertical-align: middle;\n",
              "    }\n",
              "\n",
              "    .dataframe tbody tr th {\n",
              "        vertical-align: top;\n",
              "    }\n",
              "\n",
              "    .dataframe thead th {\n",
              "        text-align: right;\n",
              "    }\n",
              "</style>\n",
              "<table border=\"1\" class=\"dataframe\">\n",
              "  <thead>\n",
              "    <tr style=\"text-align: right;\">\n",
              "      <th></th>\n",
              "      <th>0</th>\n",
              "    </tr>\n",
              "  </thead>\n",
              "  <tbody>\n",
              "    <tr>\n",
              "      <th>MLS</th>\n",
              "      <td>0</td>\n",
              "    </tr>\n",
              "    <tr>\n",
              "      <th>sold_price</th>\n",
              "      <td>0</td>\n",
              "    </tr>\n",
              "    <tr>\n",
              "      <th>zipcode</th>\n",
              "      <td>0</td>\n",
              "    </tr>\n",
              "    <tr>\n",
              "      <th>longitude</th>\n",
              "      <td>0</td>\n",
              "    </tr>\n",
              "    <tr>\n",
              "      <th>latitude</th>\n",
              "      <td>0</td>\n",
              "    </tr>\n",
              "    <tr>\n",
              "      <th>lot_acres</th>\n",
              "      <td>0</td>\n",
              "    </tr>\n",
              "    <tr>\n",
              "      <th>taxes</th>\n",
              "      <td>0</td>\n",
              "    </tr>\n",
              "    <tr>\n",
              "      <th>year_built</th>\n",
              "      <td>0</td>\n",
              "    </tr>\n",
              "    <tr>\n",
              "      <th>bedrooms</th>\n",
              "      <td>0</td>\n",
              "    </tr>\n",
              "    <tr>\n",
              "      <th>bathrooms</th>\n",
              "      <td>0</td>\n",
              "    </tr>\n",
              "    <tr>\n",
              "      <th>sqrt_ft</th>\n",
              "      <td>0</td>\n",
              "    </tr>\n",
              "    <tr>\n",
              "      <th>garage</th>\n",
              "      <td>0</td>\n",
              "    </tr>\n",
              "    <tr>\n",
              "      <th>kitchen_features</th>\n",
              "      <td>0</td>\n",
              "    </tr>\n",
              "    <tr>\n",
              "      <th>fireplaces</th>\n",
              "      <td>0</td>\n",
              "    </tr>\n",
              "    <tr>\n",
              "      <th>floor_covering</th>\n",
              "      <td>0</td>\n",
              "    </tr>\n",
              "    <tr>\n",
              "      <th>HOA</th>\n",
              "      <td>0</td>\n",
              "    </tr>\n",
              "  </tbody>\n",
              "</table>\n",
              "</div><br><label><b>dtype:</b> int64</label>"
            ]
          },
          "metadata": {},
          "execution_count": 9
        }
      ]
    },
    {
      "cell_type": "code",
      "source": [
        "df['total_rooms'] = df['bathrooms']+df['bedrooms']"
      ],
      "metadata": {
        "id": "k4fL5BbXcEsS"
      },
      "execution_count": 10,
      "outputs": []
    },
    {
      "cell_type": "code",
      "source": [
        "df = df.drop(['bedrooms', 'bathrooms'],axis=1)"
      ],
      "metadata": {
        "id": "dp2k_kCqcOdA"
      },
      "execution_count": 11,
      "outputs": []
    },
    {
      "cell_type": "code",
      "source": [
        "df['price_per_sqrtft'] = df['sold_price']/df['sqrt_ft']\n",
        "df['price_per_sqrtft'] = pd.to_numeric(df['price_per_sqrtft'], errors='coerce')"
      ],
      "metadata": {
        "id": "B3YdA_BWcRex"
      },
      "execution_count": 12,
      "outputs": []
    },
    {
      "cell_type": "code",
      "source": [
        "df[\"bins\"] = pd.qcut(df[\"price_per_sqrtft\"], q=20, labels=False)"
      ],
      "metadata": {
        "id": "o-uepj6lcU21"
      },
      "execution_count": 13,
      "outputs": []
    },
    {
      "cell_type": "code",
      "source": [
        "df"
      ],
      "metadata": {
        "colab": {
          "base_uri": "https://localhost:8080/",
          "height": 860
        },
        "id": "3Px6v3w2cZLs",
        "outputId": "d7943b06-f274-42bc-d1eb-0a937a93d921"
      },
      "execution_count": 14,
      "outputs": [
        {
          "output_type": "execute_result",
          "data": {
            "text/plain": [
              "           MLS  sold_price  zipcode   longitude   latitude  lot_acres  \\\n",
              "0     21530491   5300000.0    85637 -110.378200  31.356362    2154.00   \n",
              "1     21529082   4200000.0    85646 -111.045371  31.594213    1707.00   \n",
              "4     21306357   3411450.0    85750 -110.813768  32.285162       3.21   \n",
              "5     21528016   3250000.0    85718 -110.910593  32.339090       1.67   \n",
              "6     21610478   2400000.0    85712 -110.883315  32.261069       2.10   \n",
              "...        ...         ...      ...         ...        ...        ...   \n",
              "4988  21814465    534000.0    85739 -110.859829  32.546570       0.29   \n",
              "4989  21902512    545000.0    85745 -111.061493  32.306472       1.19   \n",
              "4993  21908358    565000.0    85750 -110.820216  32.307646       0.83   \n",
              "4994  21909379    535000.0    85718 -110.922291  32.317496       0.18   \n",
              "4996  21908591    550000.0    85750 -110.858556  32.316373       1.42   \n",
              "\n",
              "         taxes  year_built  sqrt_ft  garage  \\\n",
              "0      5272.00        1941  10500.0     0.0   \n",
              "1     10422.36        1997   7300.0     0.0   \n",
              "4     15393.00        1995   6396.0     3.0   \n",
              "5     27802.84        1999   6842.0     3.0   \n",
              "6     19038.42        2001  12025.0     4.0   \n",
              "...        ...         ...      ...     ...   \n",
              "4988   4184.40        2006   2681.0     3.0   \n",
              "4989   6326.96        2007   3720.0     4.0   \n",
              "4993   4568.71        1986   2813.0     2.0   \n",
              "4994   4414.00        2002   2106.0     2.0   \n",
              "4996   4822.01        1990   2318.0     3.0   \n",
              "\n",
              "                                       kitchen_features  fireplaces  \\\n",
              "0               Dishwasher, Freezer, Refrigerator, Oven         6.0   \n",
              "1                          Dishwasher, Garbage Disposal         5.0   \n",
              "4     Dishwasher, Garbage Disposal, Refrigerator, Mi...         5.0   \n",
              "5     Dishwasher, Garbage Disposal, Refrigerator, Mi...         5.0   \n",
              "6                    Dishwasher, Garbage Disposal, Oven         6.0   \n",
              "...                                                 ...         ...   \n",
              "4988  Dishwasher, Double Sink, Electric Range, Garba...         1.0   \n",
              "4989  Dishwasher, Double Sink, Garbage Disposal, Gas...         1.0   \n",
              "4993  Dishwasher, Double Sink, Electric Range, Garba...         2.0   \n",
              "4994  Dishwasher, Double Sink, Electric Range, Garba...         1.0   \n",
              "4996  Dishwasher, Double Sink, Electric Range, Garba...         1.0   \n",
              "\n",
              "                          floor_covering  HOA  total_rooms  price_per_sqrtft  \\\n",
              "0                     Mexican Tile, Wood    0         23.0        504.761905   \n",
              "1                   Natural Stone, Other    0          4.0        575.342466   \n",
              "4                       Carpet, Concrete   55         10.0        533.372420   \n",
              "5             Natural Stone, Wood, Other  422          7.0        475.007308   \n",
              "6     Carpet, Natural Stone, Wood, Other    0         17.0        199.584200   \n",
              "...                                  ...  ...          ...               ...   \n",
              "4988                Carpet, Ceramic Tile  180          5.0        199.179411   \n",
              "4989                        Ceramic Tile   12          7.0        146.505376   \n",
              "4993                Carpet, Mexican Tile    6          7.0        200.853182   \n",
              "4994                        Ceramic Tile  198          5.0        254.036087   \n",
              "4996                Carpet, Ceramic Tile   43          7.0        237.273512   \n",
              "\n",
              "      bins  \n",
              "0       19  \n",
              "1       19  \n",
              "4       19  \n",
              "5       19  \n",
              "6        9  \n",
              "...    ...  \n",
              "4988     9  \n",
              "4989     1  \n",
              "4993     9  \n",
              "4994    16  \n",
              "4996    15  \n",
              "\n",
              "[4370 rows x 17 columns]"
            ],
            "text/html": [
              "\n",
              "  <div id=\"df-85f257b8-221e-4c68-8d5d-499665431dfd\" class=\"colab-df-container\">\n",
              "    <div>\n",
              "<style scoped>\n",
              "    .dataframe tbody tr th:only-of-type {\n",
              "        vertical-align: middle;\n",
              "    }\n",
              "\n",
              "    .dataframe tbody tr th {\n",
              "        vertical-align: top;\n",
              "    }\n",
              "\n",
              "    .dataframe thead th {\n",
              "        text-align: right;\n",
              "    }\n",
              "</style>\n",
              "<table border=\"1\" class=\"dataframe\">\n",
              "  <thead>\n",
              "    <tr style=\"text-align: right;\">\n",
              "      <th></th>\n",
              "      <th>MLS</th>\n",
              "      <th>sold_price</th>\n",
              "      <th>zipcode</th>\n",
              "      <th>longitude</th>\n",
              "      <th>latitude</th>\n",
              "      <th>lot_acres</th>\n",
              "      <th>taxes</th>\n",
              "      <th>year_built</th>\n",
              "      <th>sqrt_ft</th>\n",
              "      <th>garage</th>\n",
              "      <th>kitchen_features</th>\n",
              "      <th>fireplaces</th>\n",
              "      <th>floor_covering</th>\n",
              "      <th>HOA</th>\n",
              "      <th>total_rooms</th>\n",
              "      <th>price_per_sqrtft</th>\n",
              "      <th>bins</th>\n",
              "    </tr>\n",
              "  </thead>\n",
              "  <tbody>\n",
              "    <tr>\n",
              "      <th>0</th>\n",
              "      <td>21530491</td>\n",
              "      <td>5300000.0</td>\n",
              "      <td>85637</td>\n",
              "      <td>-110.378200</td>\n",
              "      <td>31.356362</td>\n",
              "      <td>2154.00</td>\n",
              "      <td>5272.00</td>\n",
              "      <td>1941</td>\n",
              "      <td>10500.0</td>\n",
              "      <td>0.0</td>\n",
              "      <td>Dishwasher, Freezer, Refrigerator, Oven</td>\n",
              "      <td>6.0</td>\n",
              "      <td>Mexican Tile, Wood</td>\n",
              "      <td>0</td>\n",
              "      <td>23.0</td>\n",
              "      <td>504.761905</td>\n",
              "      <td>19</td>\n",
              "    </tr>\n",
              "    <tr>\n",
              "      <th>1</th>\n",
              "      <td>21529082</td>\n",
              "      <td>4200000.0</td>\n",
              "      <td>85646</td>\n",
              "      <td>-111.045371</td>\n",
              "      <td>31.594213</td>\n",
              "      <td>1707.00</td>\n",
              "      <td>10422.36</td>\n",
              "      <td>1997</td>\n",
              "      <td>7300.0</td>\n",
              "      <td>0.0</td>\n",
              "      <td>Dishwasher, Garbage Disposal</td>\n",
              "      <td>5.0</td>\n",
              "      <td>Natural Stone, Other</td>\n",
              "      <td>0</td>\n",
              "      <td>4.0</td>\n",
              "      <td>575.342466</td>\n",
              "      <td>19</td>\n",
              "    </tr>\n",
              "    <tr>\n",
              "      <th>4</th>\n",
              "      <td>21306357</td>\n",
              "      <td>3411450.0</td>\n",
              "      <td>85750</td>\n",
              "      <td>-110.813768</td>\n",
              "      <td>32.285162</td>\n",
              "      <td>3.21</td>\n",
              "      <td>15393.00</td>\n",
              "      <td>1995</td>\n",
              "      <td>6396.0</td>\n",
              "      <td>3.0</td>\n",
              "      <td>Dishwasher, Garbage Disposal, Refrigerator, Mi...</td>\n",
              "      <td>5.0</td>\n",
              "      <td>Carpet, Concrete</td>\n",
              "      <td>55</td>\n",
              "      <td>10.0</td>\n",
              "      <td>533.372420</td>\n",
              "      <td>19</td>\n",
              "    </tr>\n",
              "    <tr>\n",
              "      <th>5</th>\n",
              "      <td>21528016</td>\n",
              "      <td>3250000.0</td>\n",
              "      <td>85718</td>\n",
              "      <td>-110.910593</td>\n",
              "      <td>32.339090</td>\n",
              "      <td>1.67</td>\n",
              "      <td>27802.84</td>\n",
              "      <td>1999</td>\n",
              "      <td>6842.0</td>\n",
              "      <td>3.0</td>\n",
              "      <td>Dishwasher, Garbage Disposal, Refrigerator, Mi...</td>\n",
              "      <td>5.0</td>\n",
              "      <td>Natural Stone, Wood, Other</td>\n",
              "      <td>422</td>\n",
              "      <td>7.0</td>\n",
              "      <td>475.007308</td>\n",
              "      <td>19</td>\n",
              "    </tr>\n",
              "    <tr>\n",
              "      <th>6</th>\n",
              "      <td>21610478</td>\n",
              "      <td>2400000.0</td>\n",
              "      <td>85712</td>\n",
              "      <td>-110.883315</td>\n",
              "      <td>32.261069</td>\n",
              "      <td>2.10</td>\n",
              "      <td>19038.42</td>\n",
              "      <td>2001</td>\n",
              "      <td>12025.0</td>\n",
              "      <td>4.0</td>\n",
              "      <td>Dishwasher, Garbage Disposal, Oven</td>\n",
              "      <td>6.0</td>\n",
              "      <td>Carpet, Natural Stone, Wood, Other</td>\n",
              "      <td>0</td>\n",
              "      <td>17.0</td>\n",
              "      <td>199.584200</td>\n",
              "      <td>9</td>\n",
              "    </tr>\n",
              "    <tr>\n",
              "      <th>...</th>\n",
              "      <td>...</td>\n",
              "      <td>...</td>\n",
              "      <td>...</td>\n",
              "      <td>...</td>\n",
              "      <td>...</td>\n",
              "      <td>...</td>\n",
              "      <td>...</td>\n",
              "      <td>...</td>\n",
              "      <td>...</td>\n",
              "      <td>...</td>\n",
              "      <td>...</td>\n",
              "      <td>...</td>\n",
              "      <td>...</td>\n",
              "      <td>...</td>\n",
              "      <td>...</td>\n",
              "      <td>...</td>\n",
              "      <td>...</td>\n",
              "    </tr>\n",
              "    <tr>\n",
              "      <th>4988</th>\n",
              "      <td>21814465</td>\n",
              "      <td>534000.0</td>\n",
              "      <td>85739</td>\n",
              "      <td>-110.859829</td>\n",
              "      <td>32.546570</td>\n",
              "      <td>0.29</td>\n",
              "      <td>4184.40</td>\n",
              "      <td>2006</td>\n",
              "      <td>2681.0</td>\n",
              "      <td>3.0</td>\n",
              "      <td>Dishwasher, Double Sink, Electric Range, Garba...</td>\n",
              "      <td>1.0</td>\n",
              "      <td>Carpet, Ceramic Tile</td>\n",
              "      <td>180</td>\n",
              "      <td>5.0</td>\n",
              "      <td>199.179411</td>\n",
              "      <td>9</td>\n",
              "    </tr>\n",
              "    <tr>\n",
              "      <th>4989</th>\n",
              "      <td>21902512</td>\n",
              "      <td>545000.0</td>\n",
              "      <td>85745</td>\n",
              "      <td>-111.061493</td>\n",
              "      <td>32.306472</td>\n",
              "      <td>1.19</td>\n",
              "      <td>6326.96</td>\n",
              "      <td>2007</td>\n",
              "      <td>3720.0</td>\n",
              "      <td>4.0</td>\n",
              "      <td>Dishwasher, Double Sink, Garbage Disposal, Gas...</td>\n",
              "      <td>1.0</td>\n",
              "      <td>Ceramic Tile</td>\n",
              "      <td>12</td>\n",
              "      <td>7.0</td>\n",
              "      <td>146.505376</td>\n",
              "      <td>1</td>\n",
              "    </tr>\n",
              "    <tr>\n",
              "      <th>4993</th>\n",
              "      <td>21908358</td>\n",
              "      <td>565000.0</td>\n",
              "      <td>85750</td>\n",
              "      <td>-110.820216</td>\n",
              "      <td>32.307646</td>\n",
              "      <td>0.83</td>\n",
              "      <td>4568.71</td>\n",
              "      <td>1986</td>\n",
              "      <td>2813.0</td>\n",
              "      <td>2.0</td>\n",
              "      <td>Dishwasher, Double Sink, Electric Range, Garba...</td>\n",
              "      <td>2.0</td>\n",
              "      <td>Carpet, Mexican Tile</td>\n",
              "      <td>6</td>\n",
              "      <td>7.0</td>\n",
              "      <td>200.853182</td>\n",
              "      <td>9</td>\n",
              "    </tr>\n",
              "    <tr>\n",
              "      <th>4994</th>\n",
              "      <td>21909379</td>\n",
              "      <td>535000.0</td>\n",
              "      <td>85718</td>\n",
              "      <td>-110.922291</td>\n",
              "      <td>32.317496</td>\n",
              "      <td>0.18</td>\n",
              "      <td>4414.00</td>\n",
              "      <td>2002</td>\n",
              "      <td>2106.0</td>\n",
              "      <td>2.0</td>\n",
              "      <td>Dishwasher, Double Sink, Electric Range, Garba...</td>\n",
              "      <td>1.0</td>\n",
              "      <td>Ceramic Tile</td>\n",
              "      <td>198</td>\n",
              "      <td>5.0</td>\n",
              "      <td>254.036087</td>\n",
              "      <td>16</td>\n",
              "    </tr>\n",
              "    <tr>\n",
              "      <th>4996</th>\n",
              "      <td>21908591</td>\n",
              "      <td>550000.0</td>\n",
              "      <td>85750</td>\n",
              "      <td>-110.858556</td>\n",
              "      <td>32.316373</td>\n",
              "      <td>1.42</td>\n",
              "      <td>4822.01</td>\n",
              "      <td>1990</td>\n",
              "      <td>2318.0</td>\n",
              "      <td>3.0</td>\n",
              "      <td>Dishwasher, Double Sink, Electric Range, Garba...</td>\n",
              "      <td>1.0</td>\n",
              "      <td>Carpet, Ceramic Tile</td>\n",
              "      <td>43</td>\n",
              "      <td>7.0</td>\n",
              "      <td>237.273512</td>\n",
              "      <td>15</td>\n",
              "    </tr>\n",
              "  </tbody>\n",
              "</table>\n",
              "<p>4370 rows × 17 columns</p>\n",
              "</div>\n",
              "    <div class=\"colab-df-buttons\">\n",
              "\n",
              "  <div class=\"colab-df-container\">\n",
              "    <button class=\"colab-df-convert\" onclick=\"convertToInteractive('df-85f257b8-221e-4c68-8d5d-499665431dfd')\"\n",
              "            title=\"Convert this dataframe to an interactive table.\"\n",
              "            style=\"display:none;\">\n",
              "\n",
              "  <svg xmlns=\"http://www.w3.org/2000/svg\" height=\"24px\" viewBox=\"0 -960 960 960\">\n",
              "    <path d=\"M120-120v-720h720v720H120Zm60-500h600v-160H180v160Zm220 220h160v-160H400v160Zm0 220h160v-160H400v160ZM180-400h160v-160H180v160Zm440 0h160v-160H620v160ZM180-180h160v-160H180v160Zm440 0h160v-160H620v160Z\"/>\n",
              "  </svg>\n",
              "    </button>\n",
              "\n",
              "  <style>\n",
              "    .colab-df-container {\n",
              "      display:flex;\n",
              "      gap: 12px;\n",
              "    }\n",
              "\n",
              "    .colab-df-convert {\n",
              "      background-color: #E8F0FE;\n",
              "      border: none;\n",
              "      border-radius: 50%;\n",
              "      cursor: pointer;\n",
              "      display: none;\n",
              "      fill: #1967D2;\n",
              "      height: 32px;\n",
              "      padding: 0 0 0 0;\n",
              "      width: 32px;\n",
              "    }\n",
              "\n",
              "    .colab-df-convert:hover {\n",
              "      background-color: #E2EBFA;\n",
              "      box-shadow: 0px 1px 2px rgba(60, 64, 67, 0.3), 0px 1px 3px 1px rgba(60, 64, 67, 0.15);\n",
              "      fill: #174EA6;\n",
              "    }\n",
              "\n",
              "    .colab-df-buttons div {\n",
              "      margin-bottom: 4px;\n",
              "    }\n",
              "\n",
              "    [theme=dark] .colab-df-convert {\n",
              "      background-color: #3B4455;\n",
              "      fill: #D2E3FC;\n",
              "    }\n",
              "\n",
              "    [theme=dark] .colab-df-convert:hover {\n",
              "      background-color: #434B5C;\n",
              "      box-shadow: 0px 1px 3px 1px rgba(0, 0, 0, 0.15);\n",
              "      filter: drop-shadow(0px 1px 2px rgba(0, 0, 0, 0.3));\n",
              "      fill: #FFFFFF;\n",
              "    }\n",
              "  </style>\n",
              "\n",
              "    <script>\n",
              "      const buttonEl =\n",
              "        document.querySelector('#df-85f257b8-221e-4c68-8d5d-499665431dfd button.colab-df-convert');\n",
              "      buttonEl.style.display =\n",
              "        google.colab.kernel.accessAllowed ? 'block' : 'none';\n",
              "\n",
              "      async function convertToInteractive(key) {\n",
              "        const element = document.querySelector('#df-85f257b8-221e-4c68-8d5d-499665431dfd');\n",
              "        const dataTable =\n",
              "          await google.colab.kernel.invokeFunction('convertToInteractive',\n",
              "                                                    [key], {});\n",
              "        if (!dataTable) return;\n",
              "\n",
              "        const docLinkHtml = 'Like what you see? Visit the ' +\n",
              "          '<a target=\"_blank\" href=https://colab.research.google.com/notebooks/data_table.ipynb>data table notebook</a>'\n",
              "          + ' to learn more about interactive tables.';\n",
              "        element.innerHTML = '';\n",
              "        dataTable['output_type'] = 'display_data';\n",
              "        await google.colab.output.renderOutput(dataTable, element);\n",
              "        const docLink = document.createElement('div');\n",
              "        docLink.innerHTML = docLinkHtml;\n",
              "        element.appendChild(docLink);\n",
              "      }\n",
              "    </script>\n",
              "  </div>\n",
              "\n",
              "\n",
              "<div id=\"df-c36b99b8-d7c8-4964-9d21-162fbe9f3b91\">\n",
              "  <button class=\"colab-df-quickchart\" onclick=\"quickchart('df-c36b99b8-d7c8-4964-9d21-162fbe9f3b91')\"\n",
              "            title=\"Suggest charts\"\n",
              "            style=\"display:none;\">\n",
              "\n",
              "<svg xmlns=\"http://www.w3.org/2000/svg\" height=\"24px\"viewBox=\"0 0 24 24\"\n",
              "     width=\"24px\">\n",
              "    <g>\n",
              "        <path d=\"M19 3H5c-1.1 0-2 .9-2 2v14c0 1.1.9 2 2 2h14c1.1 0 2-.9 2-2V5c0-1.1-.9-2-2-2zM9 17H7v-7h2v7zm4 0h-2V7h2v10zm4 0h-2v-4h2v4z\"/>\n",
              "    </g>\n",
              "</svg>\n",
              "  </button>\n",
              "\n",
              "<style>\n",
              "  .colab-df-quickchart {\n",
              "      --bg-color: #E8F0FE;\n",
              "      --fill-color: #1967D2;\n",
              "      --hover-bg-color: #E2EBFA;\n",
              "      --hover-fill-color: #174EA6;\n",
              "      --disabled-fill-color: #AAA;\n",
              "      --disabled-bg-color: #DDD;\n",
              "  }\n",
              "\n",
              "  [theme=dark] .colab-df-quickchart {\n",
              "      --bg-color: #3B4455;\n",
              "      --fill-color: #D2E3FC;\n",
              "      --hover-bg-color: #434B5C;\n",
              "      --hover-fill-color: #FFFFFF;\n",
              "      --disabled-bg-color: #3B4455;\n",
              "      --disabled-fill-color: #666;\n",
              "  }\n",
              "\n",
              "  .colab-df-quickchart {\n",
              "    background-color: var(--bg-color);\n",
              "    border: none;\n",
              "    border-radius: 50%;\n",
              "    cursor: pointer;\n",
              "    display: none;\n",
              "    fill: var(--fill-color);\n",
              "    height: 32px;\n",
              "    padding: 0;\n",
              "    width: 32px;\n",
              "  }\n",
              "\n",
              "  .colab-df-quickchart:hover {\n",
              "    background-color: var(--hover-bg-color);\n",
              "    box-shadow: 0 1px 2px rgba(60, 64, 67, 0.3), 0 1px 3px 1px rgba(60, 64, 67, 0.15);\n",
              "    fill: var(--button-hover-fill-color);\n",
              "  }\n",
              "\n",
              "  .colab-df-quickchart-complete:disabled,\n",
              "  .colab-df-quickchart-complete:disabled:hover {\n",
              "    background-color: var(--disabled-bg-color);\n",
              "    fill: var(--disabled-fill-color);\n",
              "    box-shadow: none;\n",
              "  }\n",
              "\n",
              "  .colab-df-spinner {\n",
              "    border: 2px solid var(--fill-color);\n",
              "    border-color: transparent;\n",
              "    border-bottom-color: var(--fill-color);\n",
              "    animation:\n",
              "      spin 1s steps(1) infinite;\n",
              "  }\n",
              "\n",
              "  @keyframes spin {\n",
              "    0% {\n",
              "      border-color: transparent;\n",
              "      border-bottom-color: var(--fill-color);\n",
              "      border-left-color: var(--fill-color);\n",
              "    }\n",
              "    20% {\n",
              "      border-color: transparent;\n",
              "      border-left-color: var(--fill-color);\n",
              "      border-top-color: var(--fill-color);\n",
              "    }\n",
              "    30% {\n",
              "      border-color: transparent;\n",
              "      border-left-color: var(--fill-color);\n",
              "      border-top-color: var(--fill-color);\n",
              "      border-right-color: var(--fill-color);\n",
              "    }\n",
              "    40% {\n",
              "      border-color: transparent;\n",
              "      border-right-color: var(--fill-color);\n",
              "      border-top-color: var(--fill-color);\n",
              "    }\n",
              "    60% {\n",
              "      border-color: transparent;\n",
              "      border-right-color: var(--fill-color);\n",
              "    }\n",
              "    80% {\n",
              "      border-color: transparent;\n",
              "      border-right-color: var(--fill-color);\n",
              "      border-bottom-color: var(--fill-color);\n",
              "    }\n",
              "    90% {\n",
              "      border-color: transparent;\n",
              "      border-bottom-color: var(--fill-color);\n",
              "    }\n",
              "  }\n",
              "</style>\n",
              "\n",
              "  <script>\n",
              "    async function quickchart(key) {\n",
              "      const quickchartButtonEl =\n",
              "        document.querySelector('#' + key + ' button');\n",
              "      quickchartButtonEl.disabled = true;  // To prevent multiple clicks.\n",
              "      quickchartButtonEl.classList.add('colab-df-spinner');\n",
              "      try {\n",
              "        const charts = await google.colab.kernel.invokeFunction(\n",
              "            'suggestCharts', [key], {});\n",
              "      } catch (error) {\n",
              "        console.error('Error during call to suggestCharts:', error);\n",
              "      }\n",
              "      quickchartButtonEl.classList.remove('colab-df-spinner');\n",
              "      quickchartButtonEl.classList.add('colab-df-quickchart-complete');\n",
              "    }\n",
              "    (() => {\n",
              "      let quickchartButtonEl =\n",
              "        document.querySelector('#df-c36b99b8-d7c8-4964-9d21-162fbe9f3b91 button');\n",
              "      quickchartButtonEl.style.display =\n",
              "        google.colab.kernel.accessAllowed ? 'block' : 'none';\n",
              "    })();\n",
              "  </script>\n",
              "</div>\n",
              "\n",
              "  <div id=\"id_4aece4f5-e6eb-4589-83f8-5147e72fbc46\">\n",
              "    <style>\n",
              "      .colab-df-generate {\n",
              "        background-color: #E8F0FE;\n",
              "        border: none;\n",
              "        border-radius: 50%;\n",
              "        cursor: pointer;\n",
              "        display: none;\n",
              "        fill: #1967D2;\n",
              "        height: 32px;\n",
              "        padding: 0 0 0 0;\n",
              "        width: 32px;\n",
              "      }\n",
              "\n",
              "      .colab-df-generate:hover {\n",
              "        background-color: #E2EBFA;\n",
              "        box-shadow: 0px 1px 2px rgba(60, 64, 67, 0.3), 0px 1px 3px 1px rgba(60, 64, 67, 0.15);\n",
              "        fill: #174EA6;\n",
              "      }\n",
              "\n",
              "      [theme=dark] .colab-df-generate {\n",
              "        background-color: #3B4455;\n",
              "        fill: #D2E3FC;\n",
              "      }\n",
              "\n",
              "      [theme=dark] .colab-df-generate:hover {\n",
              "        background-color: #434B5C;\n",
              "        box-shadow: 0px 1px 3px 1px rgba(0, 0, 0, 0.15);\n",
              "        filter: drop-shadow(0px 1px 2px rgba(0, 0, 0, 0.3));\n",
              "        fill: #FFFFFF;\n",
              "      }\n",
              "    </style>\n",
              "    <button class=\"colab-df-generate\" onclick=\"generateWithVariable('df')\"\n",
              "            title=\"Generate code using this dataframe.\"\n",
              "            style=\"display:none;\">\n",
              "\n",
              "  <svg xmlns=\"http://www.w3.org/2000/svg\" height=\"24px\"viewBox=\"0 0 24 24\"\n",
              "       width=\"24px\">\n",
              "    <path d=\"M7,19H8.4L18.45,9,17,7.55,7,17.6ZM5,21V16.75L18.45,3.32a2,2,0,0,1,2.83,0l1.4,1.43a1.91,1.91,0,0,1,.58,1.4,1.91,1.91,0,0,1-.58,1.4L9.25,21ZM18.45,9,17,7.55Zm-12,3A5.31,5.31,0,0,0,4.9,8.1,5.31,5.31,0,0,0,1,6.5,5.31,5.31,0,0,0,4.9,4.9,5.31,5.31,0,0,0,6.5,1,5.31,5.31,0,0,0,8.1,4.9,5.31,5.31,0,0,0,12,6.5,5.46,5.46,0,0,0,6.5,12Z\"/>\n",
              "  </svg>\n",
              "    </button>\n",
              "    <script>\n",
              "      (() => {\n",
              "      const buttonEl =\n",
              "        document.querySelector('#id_4aece4f5-e6eb-4589-83f8-5147e72fbc46 button.colab-df-generate');\n",
              "      buttonEl.style.display =\n",
              "        google.colab.kernel.accessAllowed ? 'block' : 'none';\n",
              "\n",
              "      buttonEl.onclick = () => {\n",
              "        google.colab.notebook.generateWithVariable('df');\n",
              "      }\n",
              "      })();\n",
              "    </script>\n",
              "  </div>\n",
              "\n",
              "    </div>\n",
              "  </div>\n"
            ],
            "application/vnd.google.colaboratory.intrinsic+json": {
              "type": "dataframe",
              "variable_name": "df",
              "summary": "{\n  \"name\": \"df\",\n  \"rows\": 4370,\n  \"fields\": [\n    {\n      \"column\": \"MLS\",\n      \"properties\": {\n        \"dtype\": \"number\",\n        \"std\": 902437,\n        \"min\": 4111258,\n        \"max\": 21926082,\n        \"num_unique_values\": 4370,\n        \"samples\": [\n          21303495,\n          21602372,\n          21532869\n        ],\n        \"semantic_type\": \"\",\n        \"description\": \"\"\n      }\n    },\n    {\n      \"column\": \"sold_price\",\n      \"properties\": {\n        \"dtype\": \"number\",\n        \"std\": 317263.41918672615,\n        \"min\": 375000.0,\n        \"max\": 5300000.0,\n        \"num_unique_values\": 1005,\n        \"samples\": [\n          537500.0,\n          662000.0,\n          659200.0\n        ],\n        \"semantic_type\": \"\",\n        \"description\": \"\"\n      }\n    },\n    {\n      \"column\": \"zipcode\",\n      \"properties\": {\n        \"dtype\": \"number\",\n        \"std\": 35,\n        \"min\": 85118,\n        \"max\": 86323,\n        \"num_unique_values\": 51,\n        \"samples\": [\n          85605,\n          85643,\n          85711\n        ],\n        \"semantic_type\": \"\",\n        \"description\": \"\"\n      }\n    },\n    {\n      \"column\": \"longitude\",\n      \"properties\": {\n        \"dtype\": \"number\",\n        \"std\": 0.11764474169003351,\n        \"min\": -112.520168,\n        \"max\": -109.454637,\n        \"num_unique_values\": 4190,\n        \"samples\": [\n          -110.86202,\n          -110.819012,\n          -110.950734\n        ],\n        \"semantic_type\": \"\",\n        \"description\": \"\"\n      }\n    },\n    {\n      \"column\": \"latitude\",\n      \"properties\": {\n        \"dtype\": \"number\",\n        \"std\": 0.15518995686720666,\n        \"min\": 31.356362,\n        \"max\": 34.927884,\n        \"num_unique_values\": 4232,\n        \"samples\": [\n          32.327211,\n          32.30008,\n          32.327922\n        ],\n        \"semantic_type\": \"\",\n        \"description\": \"\"\n      }\n    },\n    {\n      \"column\": \"lot_acres\",\n      \"properties\": {\n        \"dtype\": \"number\",\n        \"std\": 46.530922964476886,\n        \"min\": 0.0,\n        \"max\": 2154.0,\n        \"num_unique_values\": 572,\n        \"samples\": [\n          72.62,\n          1.12,\n          1.54\n        ],\n        \"semantic_type\": \"\",\n        \"description\": \"\"\n      }\n    },\n    {\n      \"column\": \"taxes\",\n      \"properties\": {\n        \"dtype\": \"number\",\n        \"std\": 184710.9879085697,\n        \"min\": 0.0,\n        \"max\": 12215075.0,\n        \"num_unique_values\": 4153,\n        \"samples\": [\n          13011.62,\n          7693.88,\n          7268.93\n        ],\n        \"semantic_type\": \"\",\n        \"description\": \"\"\n      }\n    },\n    {\n      \"column\": \"year_built\",\n      \"properties\": {\n        \"dtype\": \"number\",\n        \"std\": 69,\n        \"min\": 0,\n        \"max\": 2019,\n        \"num_unique_values\": 103,\n        \"samples\": [\n          2013,\n          1937,\n          1947\n        ],\n        \"semantic_type\": \"\",\n        \"description\": \"\"\n      }\n    },\n    {\n      \"column\": \"sqrt_ft\",\n      \"properties\": {\n        \"dtype\": \"number\",\n        \"std\": 1069.2780343613433,\n        \"min\": 1100.0,\n        \"max\": 21915.0,\n        \"num_unique_values\": 2193,\n        \"samples\": [\n          4877.0,\n          3306.0,\n          2763.0\n        ],\n        \"semantic_type\": \"\",\n        \"description\": \"\"\n      }\n    },\n    {\n      \"column\": \"garage\",\n      \"properties\": {\n        \"dtype\": \"number\",\n        \"std\": 1.1014892153990026,\n        \"min\": 0.0,\n        \"max\": 30.0,\n        \"num_unique_values\": 17,\n        \"samples\": [\n          0.0,\n          3.0,\n          6.0\n        ],\n        \"semantic_type\": \"\",\n        \"description\": \"\"\n      }\n    },\n    {\n      \"column\": \"kitchen_features\",\n      \"properties\": {\n        \"dtype\": \"category\",\n        \"num_unique_values\": 1301,\n        \"samples\": [\n          \"Dishwasher, Double Sink, Garbage Disposal, Gas Range, Island, Pantry: Walk-In, Refrigerator, Appliance Color: Stainless, Countertops: Quartz, Missing: wine refrigerator, Microwave: Microwave, Oven: Double oven\",\n          \"Compactor, Dishwasher, Double Sink, Electric Range, Freezer, Garbage Disposal, Island, Pantry: Cabinet, Prep Sink, Refrigerator, Appliance Color: Stainless, Countertops: Granite, Microwave: Stainless Steel, Oven: Gas\",\n          \"Dishwasher, Garbage Disposal, Pantry: Closet, Refrigerator, Appliance Color: Stainless, Countertops: Granite, Microwave: Installed, Oven: Double\"\n        ],\n        \"semantic_type\": \"\",\n        \"description\": \"\"\n      }\n    },\n    {\n      \"column\": \"fireplaces\",\n      \"properties\": {\n        \"dtype\": \"number\",\n        \"std\": 1.135721263897518,\n        \"min\": 0.0,\n        \"max\": 9.0,\n        \"num_unique_values\": 10,\n        \"samples\": [\n          9.0,\n          5.0,\n          3.0\n        ],\n        \"semantic_type\": \"\",\n        \"description\": \"\"\n      }\n    },\n    {\n      \"column\": \"floor_covering\",\n      \"properties\": {\n        \"dtype\": \"category\",\n        \"num_unique_values\": 230,\n        \"samples\": [\n          \"Carpet, Ceramic Tile, Other: NEW Plank Tile\",\n          \"Ceramic Tile, Indoor/Outdoor, Wood, Other\",\n          \"Carpet, Natural Stone\"\n        ],\n        \"semantic_type\": \"\",\n        \"description\": \"\"\n      }\n    },\n    {\n      \"column\": \"HOA\",\n      \"properties\": {\n        \"dtype\": \"category\",\n        \"num_unique_values\": 371,\n        \"samples\": [\n          \"60.5\",\n          \"69\",\n          \"1,717\"\n        ],\n        \"semantic_type\": \"\",\n        \"description\": \"\"\n      }\n    },\n    {\n      \"column\": \"total_rooms\",\n      \"properties\": {\n        \"dtype\": \"number\",\n        \"std\": 1.925440929322282,\n        \"min\": 2.0,\n        \"max\": 71.0,\n        \"num_unique_values\": 22,\n        \"samples\": [\n          23.0,\n          28.0,\n          13.0\n        ],\n        \"semantic_type\": \"\",\n        \"description\": \"\"\n      }\n    },\n    {\n      \"column\": \"price_per_sqrtft\",\n      \"properties\": {\n        \"dtype\": \"number\",\n        \"std\": 65.36421138641569,\n        \"min\": 31.713438284280173,\n        \"max\": 1208.3333333333333,\n        \"num_unique_values\": 4258,\n        \"samples\": [\n          344.19876909049464,\n          253.86861313868613,\n          104.66736328805294\n        ],\n        \"semantic_type\": \"\",\n        \"description\": \"\"\n      }\n    },\n    {\n      \"column\": \"bins\",\n      \"properties\": {\n        \"dtype\": \"number\",\n        \"std\": 5,\n        \"min\": 0,\n        \"max\": 19,\n        \"num_unique_values\": 20,\n        \"samples\": [\n          19,\n          3,\n          2\n        ],\n        \"semantic_type\": \"\",\n        \"description\": \"\"\n      }\n    }\n  ]\n}"
            }
          },
          "metadata": {},
          "execution_count": 14
        }
      ]
    },
    {
      "cell_type": "code",
      "source": [
        "new_df=df[['longitude', 'latitude', 'bins']]"
      ],
      "metadata": {
        "id": "CP6T5q8tcZx7"
      },
      "execution_count": 42,
      "outputs": []
    },
    {
      "cell_type": "code",
      "source": [
        "X_reg = new_df[['longitude', 'latitude']]"
      ],
      "metadata": {
        "id": "K7qjfwmQclLM"
      },
      "execution_count": 43,
      "outputs": []
    },
    {
      "cell_type": "code",
      "source": [
        "y_reg = new_df['bins']"
      ],
      "metadata": {
        "id": "qdynSKuhcnCa"
      },
      "execution_count": 44,
      "outputs": []
    },
    {
      "cell_type": "code",
      "source": [
        "X_reg = X_reg.to_numpy()"
      ],
      "metadata": {
        "id": "cVrB9ahYcq9t"
      },
      "execution_count": 45,
      "outputs": []
    },
    {
      "cell_type": "code",
      "source": [
        "y_reg = y_reg.to_numpy()"
      ],
      "metadata": {
        "id": "uuYRDhd-csra"
      },
      "execution_count": 46,
      "outputs": []
    },
    {
      "cell_type": "code",
      "source": [
        "ninety_pct = 0.9*new_df.shape[0]\n",
        "\n",
        "X_train = new_df.loc[:ninety_pct-1, :]\n",
        "X_test = new_df.loc[ninety_pct:, :]\n",
        "\n",
        "X_train.shape, X_test.shape"
      ],
      "metadata": {
        "colab": {
          "base_uri": "https://localhost:8080/"
        },
        "id": "R7Svi19XczXv",
        "outputId": "31a90b66-541c-4204-d2cf-3f40fb3ace61"
      },
      "execution_count": 20,
      "outputs": [
        {
          "output_type": "execute_result",
          "data": {
            "text/plain": [
              "((3457, 3), (913, 3))"
            ]
          },
          "metadata": {},
          "execution_count": 20
        }
      ]
    },
    {
      "cell_type": "code",
      "source": [
        "X_train = X_train.to_numpy()"
      ],
      "metadata": {
        "id": "_ooCbR5vc1Qe"
      },
      "execution_count": 21,
      "outputs": []
    },
    {
      "cell_type": "code",
      "source": [
        "y_train = X_train[:,2]"
      ],
      "metadata": {
        "id": "7DpHOjx-c3A3"
      },
      "execution_count": 22,
      "outputs": []
    },
    {
      "cell_type": "code",
      "source": [
        "y_train"
      ],
      "metadata": {
        "colab": {
          "base_uri": "https://localhost:8080/"
        },
        "id": "OchKuTI1c3h9",
        "outputId": "e23aa0b8-5277-4cc3-aa9b-2e59da6703ed"
      },
      "execution_count": 23,
      "outputs": [
        {
          "output_type": "execute_result",
          "data": {
            "text/plain": [
              "array([19., 19., 19., ...,  0., 13., 13.])"
            ]
          },
          "metadata": {},
          "execution_count": 23
        }
      ]
    },
    {
      "cell_type": "code",
      "source": [
        "X_train = X_train[:,:2]"
      ],
      "metadata": {
        "id": "X9GVBlpJc6sn"
      },
      "execution_count": 24,
      "outputs": []
    },
    {
      "cell_type": "code",
      "source": [
        "X_train"
      ],
      "metadata": {
        "colab": {
          "base_uri": "https://localhost:8080/"
        },
        "id": "cWk6IZ0mdBDq",
        "outputId": "4d6de480-1299-4572-aeb7-8d9d6d7fe048"
      },
      "execution_count": 25,
      "outputs": [
        {
          "output_type": "execute_result",
          "data": {
            "text/plain": [
              "array([[-110.3782  ,   31.356362],\n",
              "       [-111.045371,   31.594213],\n",
              "       [-110.813768,   32.285162],\n",
              "       ...,\n",
              "       [-110.883238,   32.323465],\n",
              "       [-111.054993,   32.417093],\n",
              "       [-110.868639,   32.328159]])"
            ]
          },
          "metadata": {},
          "execution_count": 25
        }
      ]
    },
    {
      "cell_type": "code",
      "source": [
        "X_test_1 = [[-110.3782, 31.356362]]"
      ],
      "metadata": {
        "id": "0FOLSnDOd2Zm"
      },
      "execution_count": 38,
      "outputs": []
    },
    {
      "cell_type": "code",
      "source": [
        "X_test = X_test.to_numpy()"
      ],
      "metadata": {
        "id": "qk1GltG9dXtA"
      },
      "execution_count": 31,
      "outputs": []
    },
    {
      "cell_type": "code",
      "source": [
        "y_test = X_test[:,2]"
      ],
      "metadata": {
        "id": "3vlKm0ridawB"
      },
      "execution_count": 32,
      "outputs": []
    },
    {
      "cell_type": "code",
      "source": [
        "X_test = X_test[:,:2]"
      ],
      "metadata": {
        "id": "Oa8Y-RAwdeA4"
      },
      "execution_count": 33,
      "outputs": []
    },
    {
      "cell_type": "code",
      "source": [
        "y_test"
      ],
      "metadata": {
        "collapsed": true,
        "colab": {
          "base_uri": "https://localhost:8080/"
        },
        "id": "gpaC7nVFdgQ8",
        "outputId": "ca066e7d-1e97-4513-ad2a-9e15b125b764"
      },
      "execution_count": 34,
      "outputs": [
        {
          "output_type": "execute_result",
          "data": {
            "text/plain": [
              "array([ 6., 14.,  7.,  6.,  5.,  4., 12.,  5.,  3.,  1.,  1.,  2.,  8.,\n",
              "        7.,  9.,  2., 18.,  7.,  5.,  6.,  6., 17.,  9., 10.,  2.,  1.,\n",
              "        5., 13., 14.,  1., 11.,  5.,  1., 10.,  2.,  9.,  8., 17., 16.,\n",
              "        9., 13.,  2., 11., 13.,  4.,  3.,  4.,  0., 12., 16.,  6.,  2.,\n",
              "       11.,  1.,  5., 12., 12.,  3.,  2.,  0.,  7.,  3.,  9., 10.,  1.,\n",
              "        7., 10.,  0.,  3., 10., 19., 11.,  2.,  9.,  8., 10.,  1., 14.,\n",
              "        0.,  0.,  3.,  2.,  1.,  5.,  2.,  2., 13.,  1.,  7., 14., 12.,\n",
              "        4.,  4.,  7.,  3.,  0., 11.,  6.,  9.,  0., 19.,  5.,  5.,  7.,\n",
              "        1.,  4.,  7., 14., 12., 11., 12.,  0., 14.,  3.,  4., 12.,  3.,\n",
              "        5.,  6., 12.,  0.,  2., 10.,  7.,  5., 10.,  0.,  1., 12.,  2.,\n",
              "       11.,  8.,  5., 14.,  2., 14.,  1.,  4.,  2.,  5.,  4.,  8., 13.,\n",
              "       17.,  4.,  0.,  5., 12.,  1., 12., 14.,  2., 16.,  0., 14.,  1.,\n",
              "        6.,  8., 11., 10., 10., 15.,  4.,  9.,  7.,  3., 12., 11.,  6.,\n",
              "        6.,  2.,  4.,  1.,  9.,  7.,  2., 10.,  5., 17., 19.,  4., 13.,\n",
              "       13.,  3., 11., 10.,  6., 13.,  3.,  0.,  6., 12., 11., 10.,  1.,\n",
              "        4.,  9.,  0.,  7.,  4.,  4.,  2.,  1., 14.,  4.,  0., 13.,  4.,\n",
              "        4.,  1.,  8.,  5.,  5., 11.,  3.,  8., 11., 11., 11.,  6.,  9.,\n",
              "        6.,  5.,  0.,  5., 12.,  1., 12., 14.,  2.,  1.,  7.,  4.,  1.,\n",
              "       18., 14., 11.,  0.,  5.,  7., 12., 12., 10., 16.,  7., 10.,  2.,\n",
              "        5.,  2.,  7.,  0.,  1.,  9.,  4., 15.,  0.,  1.,  1., 13.,  7.,\n",
              "       10.,  9.,  9.,  8., 12., 11.,  2.,  8.,  7., 15.,  1.,  5.,  7.,\n",
              "        1.,  8.,  4.,  2., 12., 13.,  2.,  1.,  4.,  5.,  0.,  8., 10.,\n",
              "        7., 10., 12., 13., 12., 15.,  8.,  3.,  5.,  1.,  7.,  6.,  3.,\n",
              "        2.,  6.,  6., 11., 16., 10., 17.,  6.,  1.,  3.,  2.,  9., 10.,\n",
              "        0.,  8.,  1.,  4.,  3., 16.,  9.,  6.,  4., 11.,  4.,  8.,  1.,\n",
              "        1., 15., 10.,  5.,  5.,  2.,  9.,  4.,  3.,  0.,  2., 13., 16.,\n",
              "        5.,  3., 10.,  9.,  5.,  5.,  9.,  1.,  8.,  0.,  3.,  1.,  5.,\n",
              "        4.,  9., 16.,  2., 12.,  3., 11.,  1.,  5.,  3.,  7.,  4., 10.,\n",
              "        4., 15., 15.,  6.,  6., 17.,  3.,  4.,  2.,  6.,  2., 13.,  4.,\n",
              "        0.,  2.,  2.,  5., 16.,  7., 17.,  7.,  7.,  8.,  0.,  0.,  5.,\n",
              "        7.,  7.,  3.,  1.,  3.,  2., 14.,  3.,  3.,  1.,  0.,  1.,  1.,\n",
              "       11., 13.,  3.,  3., 13.,  3., 15., 16.,  9.,  1.,  0.,  0.,  6.,\n",
              "        0., 16., 13., 11.,  5.,  4.,  1.,  3., 11.,  0.,  8.,  3.,  2.,\n",
              "        4.,  0.,  7.,  7., 11.,  4., 14.,  3.,  4.,  0.,  3.,  4.,  9.,\n",
              "        0.,  2.,  3.,  2.,  2.,  9., 14.,  4.,  8.,  1.,  2.,  6.,  5.,\n",
              "        9.,  0.,  5., 11., 10.,  3.,  5.,  1.,  5., 13.,  8., 12.,  2.,\n",
              "        6.,  6., 13.,  2.,  3.,  7.,  0.,  8.,  8.,  8.,  5.,  5., 16.,\n",
              "        4., 13.,  6.,  9.,  5.,  5., 10.,  7.,  4.,  8., 16.,  0., 13.,\n",
              "        3., 17.,  0., 13.,  8.,  8.,  7., 15.,  1., 17., 13.,  2., 16.,\n",
              "       11., 11.,  7.,  1., 11., 18.,  4., 10.,  3.,  4.,  4.,  3.,  6.,\n",
              "        5.,  2.,  0.,  4.,  3., 13.,  8.,  4.,  8.,  6., 11.,  2., 15.,\n",
              "       14., 12.,  3.,  9., 14., 13.,  2., 10., 13.,  0.,  1.,  5.,  2.,\n",
              "        2.,  2.,  8., 16.,  0.,  9.,  0., 14.,  7.,  0.,  3.,  0.,  2.,\n",
              "       14., 11.,  4., 14., 11.,  2.,  8.,  2.,  5.,  0.,  6.,  5.,  8.,\n",
              "        6.,  7., 13., 10., 12.,  1.,  4.,  2.,  4.,  6.,  8.,  1.,  9.,\n",
              "        3.,  5.,  2.,  1.,  6.,  4.,  0.,  1.,  0.,  8., 13.,  4.,  8.,\n",
              "        9.,  7.,  8.,  0.,  1., 11.,  0.,  5.,  0., 10., 15.,  5., 10.,\n",
              "        8.,  0.,  8.,  2., 16., 12.,  9.,  6., 15., 12., 17.,  1.,  0.,\n",
              "        1., 11., 13., 15., 10., 15.,  7.,  6.,  8.,  5., 12.,  0.,  3.,\n",
              "        5.,  5., 14.,  0., 10., 16., 10.,  0.,  3.,  2.,  1.,  7.,  2.,\n",
              "        3.,  5., 15.,  2.,  1.,  0., 15.,  1.,  0.,  2.,  6.,  0.,  9.,\n",
              "        3.,  5.,  7.,  6.,  6., 13.,  8., 13.,  7.,  0.,  3.,  8.,  6.,\n",
              "        6.,  0.,  3., 10., 10.,  5., 11.,  2.,  1.,  7.,  3.,  8.,  3.,\n",
              "        0., 12.,  0.,  9.,  4.,  9., 12.,  2.,  5.,  1.,  9.,  5.,  3.,\n",
              "        3., 17.,  0., 12., 11.,  7.,  4.,  2.,  7.,  3., 15.,  3.,  6.,\n",
              "        2.,  4.,  7., 14.,  1.,  7.,  8.,  9., 11.,  6.,  3.,  5.,  4.,\n",
              "        9., 12.,  7.,  3.,  2.,  2.,  5.,  4.,  9.,  6., 14., 11.,  2.,\n",
              "       13.,  7.,  7., 17.,  6., 14.,  0.,  7.,  3.,  4., 15.,  7., 12.,\n",
              "        1.,  5., 18., 16.,  6.,  7.,  1.,  5.,  4.,  1., 14.,  0.,  0.,\n",
              "       15., 15., 17.,  8.,  3.,  0.,  1.,  8., 12.,  9.,  5.,  6.,  5.,\n",
              "        8., 18.,  1., 11.,  3.,  8.,  4.,  9.,  0.,  2.,  5., 14.,  5.,\n",
              "        1.,  4.,  2.,  4.,  8., 12.,  8., 17.,  1.,  4.,  5.,  2., 17.,\n",
              "        0.,  0.,  9., 19.,  6.,  0., 16.,  7.,  8., 10.,  5.,  9.,  4.,\n",
              "       10.,  6.,  7.,  5.,  4.,  2.,  1.,  1.,  3.,  3.,  0.,  1.,  2.,\n",
              "        4.,  9.,  8.,  0., 11.,  1.,  0., 10.,  0.,  7.,  2.,  3.,  2.,\n",
              "       14.,  3.,  6., 10.,  5.,  0.,  4.,  9.,  2., 17.,  1., 10.,  7.,\n",
              "        3., 11., 10.,  5.,  4.,  7.,  1., 12.,  6., 10., 11., 10., 16.,\n",
              "        2.,  5.,  4.,  5.,  8.,  0.,  4., 11.,  8., 10.,  9., 18., 15.,\n",
              "        3.,  3., 13., 10., 12., 15.,  7.,  6.,  0.,  5.,  1.,  8.,  4.,\n",
              "       10.,  3., 13., 16.,  1., 10.,  4.,  6.,  1.,  0.,  7.,  9.,  1.,\n",
              "        9., 16., 15.])"
            ]
          },
          "metadata": {},
          "execution_count": 34
        }
      ]
    },
    {
      "cell_type": "code",
      "source": [
        "X_test"
      ],
      "metadata": {
        "colab": {
          "base_uri": "https://localhost:8080/"
        },
        "id": "KnkNm8gIdj8S",
        "outputId": "9bdd4d52-c009-40c5-db3a-0f56108bb29b"
      },
      "execution_count": 35,
      "outputs": [
        {
          "output_type": "execute_result",
          "data": {
            "text/plain": [
              "array([[-110.988321,   32.38243 ],\n",
              "       [-111.00541 ,   31.838958],\n",
              "       [-110.876467,   32.305228],\n",
              "       ...,\n",
              "       [-110.820216,   32.307646],\n",
              "       [-110.922291,   32.317496],\n",
              "       [-110.858556,   32.316373]])"
            ]
          },
          "metadata": {},
          "execution_count": 35
        }
      ]
    },
    {
      "cell_type": "code",
      "source": [
        "class KNNClassifier():\n",
        "\n",
        "  def fit(self,X,y):\n",
        "    self.X = X\n",
        "    self.y = y.astype(int)\n",
        "\n",
        "  def predict(self, X, K,epsilon=1e-3):\n",
        "    N = len(X)\n",
        "    y_hat = np.zeros(N)\n",
        "\n",
        "    for i in range(N):\n",
        "      dist2 = np.sum((self.X-X[i])**2, axis=1)\n",
        "      idxt = np.argsort(dist2)[:K]\n",
        "      gamma_k = 1/(np.sqrt(dist2[idxt]+epsilon))\n",
        "\n",
        "      y_hat[i] = np.bincount(self.y[idxt], weights = gamma_k).argmax()\n",
        "\n",
        "    return y_hat"
      ],
      "metadata": {
        "id": "s-34JLzCdBfE"
      },
      "execution_count": 47,
      "outputs": []
    },
    {
      "cell_type": "code",
      "source": [
        "knnr = KNNClassifier()\n",
        "knnr.fit(X_train,y_train)"
      ],
      "metadata": {
        "id": "lZxxKKxFdJEH"
      },
      "execution_count": 48,
      "outputs": []
    },
    {
      "cell_type": "code",
      "source": [
        "y_hat = knnr.predict(X_train,K=3)"
      ],
      "metadata": {
        "id": "vtfQ0jrddLZd"
      },
      "execution_count": 49,
      "outputs": []
    },
    {
      "cell_type": "code",
      "source": [
        "def accuracy(y,y_hat):\n",
        "  return np.mean(y==y_hat)"
      ],
      "metadata": {
        "id": "1K4JpxPRdPjt"
      },
      "execution_count": 50,
      "outputs": []
    },
    {
      "cell_type": "code",
      "source": [
        "accuracy(y_train,y_hat)"
      ],
      "metadata": {
        "colab": {
          "base_uri": "https://localhost:8080/"
        },
        "id": "3_EUdR5RdSBO",
        "outputId": "4650da23-a843-4147-de87-5719973b8af3"
      },
      "execution_count": 30,
      "outputs": [
        {
          "output_type": "execute_result",
          "data": {
            "text/plain": [
              "0.9091698004049754"
            ]
          },
          "metadata": {},
          "execution_count": 30
        }
      ]
    },
    {
      "cell_type": "code",
      "source": [
        "y_reg_hat = knnr.predict(X_reg,K=3)"
      ],
      "metadata": {
        "id": "V6HEO1QclPvk"
      },
      "execution_count": 51,
      "outputs": []
    },
    {
      "cell_type": "code",
      "source": [
        "accuracy(y_reg,y_reg_hat)"
      ],
      "metadata": {
        "colab": {
          "base_uri": "https://localhost:8080/"
        },
        "id": "Gp8DbEq0lUmM",
        "outputId": "c511deb8-537a-4981-bb34-c177bd00e78f"
      },
      "execution_count": 52,
      "outputs": [
        {
          "output_type": "execute_result",
          "data": {
            "text/plain": [
              "0.7356979405034325"
            ]
          },
          "metadata": {},
          "execution_count": 52
        }
      ]
    },
    {
      "cell_type": "code",
      "source": [
        "y_hat_test = knnr.predict(X_test,K=3)"
      ],
      "metadata": {
        "id": "QzBVWL0Ldo0A"
      },
      "execution_count": 36,
      "outputs": []
    },
    {
      "cell_type": "code",
      "source": [
        "accuracy(y_test,y_hat_test)"
      ],
      "metadata": {
        "colab": {
          "base_uri": "https://localhost:8080/"
        },
        "id": "eRKPTL3tdswU",
        "outputId": "6e2f59b2-b803-49fd-a58a-159f8f896c46"
      },
      "execution_count": 37,
      "outputs": [
        {
          "output_type": "execute_result",
          "data": {
            "text/plain": [
              "0.07886089813800658"
            ]
          },
          "metadata": {},
          "execution_count": 37
        }
      ]
    },
    {
      "cell_type": "code",
      "source": [
        "y_test_1 = knnr.predict(X_test_1,K=3)"
      ],
      "metadata": {
        "id": "po_JY7Tvd67B"
      },
      "execution_count": 39,
      "outputs": []
    },
    {
      "cell_type": "code",
      "source": [
        "y_test_1"
      ],
      "metadata": {
        "colab": {
          "base_uri": "https://localhost:8080/"
        },
        "id": "L8rayJQHd8E8",
        "outputId": "89af5666-9681-406c-c722-4f4885e96588"
      },
      "execution_count": 40,
      "outputs": [
        {
          "output_type": "execute_result",
          "data": {
            "text/plain": [
              "array([19.])"
            ]
          },
          "metadata": {},
          "execution_count": 40
        }
      ]
    },
    {
      "cell_type": "code",
      "source": [],
      "metadata": {
        "id": "6_o7r2Ewd9RD"
      },
      "execution_count": null,
      "outputs": []
    }
  ]
}