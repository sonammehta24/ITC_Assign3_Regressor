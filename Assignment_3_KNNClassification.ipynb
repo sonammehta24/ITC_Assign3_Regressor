{
  "nbformat": 4,
  "nbformat_minor": 0,
  "metadata": {
    "colab": {
      "provenance": [],
      "collapsed_sections": [
        "_ynB9dQbfqV8",
        "vWKFZ06mru_V",
        "_bDRovPfrc9_",
        "1Qq1lEgorYBU",
        "QjRPvsOdrThz",
        "l54FxcVcrLLc"
      ]
    },
    "kernelspec": {
      "name": "python3",
      "display_name": "Python 3"
    },
    "language_info": {
      "name": "python"
    }
  },
  "cells": [
    {
      "cell_type": "markdown",
      "source": [
        "# Basic Imports"
      ],
      "metadata": {
        "id": "_ynB9dQbfqV8"
      }
    },
    {
      "cell_type": "code",
      "execution_count": null,
      "metadata": {
        "id": "KbHT-wnpElSs"
      },
      "outputs": [],
      "source": [
        "import pandas as pd\n",
        "import numpy as np\n",
        "import matplotlib.pyplot as plt\n",
        "import seaborn as sns"
      ]
    },
    {
      "cell_type": "code",
      "source": [
        "df = pd.read_csv('/content/raw_house_data - raw_house_data.csv')"
      ],
      "metadata": {
        "id": "CG6VydmlFXDi"
      },
      "execution_count": null,
      "outputs": []
    },
    {
      "cell_type": "code",
      "source": [
        "df.columns"
      ],
      "metadata": {
        "colab": {
          "base_uri": "https://localhost:8080/"
        },
        "id": "uPWu72E6oXKl",
        "outputId": "9db6fbf3-e01e-4543-a6ed-abbeb8a00cca"
      },
      "execution_count": null,
      "outputs": [
        {
          "output_type": "execute_result",
          "data": {
            "text/plain": [
              "Index(['MLS', 'sold_price', 'zipcode', 'longitude', 'latitude', 'lot_acres',\n",
              "       'taxes', 'year_built', 'bedrooms', 'bathrooms', 'sqrt_ft', 'garage',\n",
              "       'kitchen_features', 'fireplaces', 'floor_covering', 'HOA'],\n",
              "      dtype='object')"
            ]
          },
          "metadata": {},
          "execution_count": 180
        }
      ]
    },
    {
      "cell_type": "markdown",
      "source": [
        "# Handling missing values"
      ],
      "metadata": {
        "id": "vWKFZ06mru_V"
      }
    },
    {
      "cell_type": "code",
      "source": [
        "df = df.dropna()"
      ],
      "metadata": {
        "id": "m8yAqxx_d_Ds"
      },
      "execution_count": null,
      "outputs": []
    },
    {
      "cell_type": "code",
      "source": [
        "f = [c for c in df.columns if c not in ['kitchen_features','floor_covering']]\n",
        "df[f] = df[f].fillna(0)"
      ],
      "metadata": {
        "id": "JMRmeAn6peil",
        "colab": {
          "base_uri": "https://localhost:8080/"
        },
        "outputId": "8b0abf82-3fad-43c6-e363-2da44156c091"
      },
      "execution_count": null,
      "outputs": [
        {
          "output_type": "stream",
          "name": "stderr",
          "text": [
            "<ipython-input-182-b7d5d6db2f4c>:2: SettingWithCopyWarning: \n",
            "A value is trying to be set on a copy of a slice from a DataFrame.\n",
            "Try using .loc[row_indexer,col_indexer] = value instead\n",
            "\n",
            "See the caveats in the documentation: https://pandas.pydata.org/pandas-docs/stable/user_guide/indexing.html#returning-a-view-versus-a-copy\n",
            "  df[f] = df[f].fillna(0)\n"
          ]
        }
      ]
    },
    {
      "cell_type": "code",
      "source": [
        "df['kitchen_features'] = df['kitchen_features'].fillna('Others')\n",
        "df['floor_covering'] = df['floor_covering'].fillna('Others')"
      ],
      "metadata": {
        "id": "3V172gQWprGC",
        "colab": {
          "base_uri": "https://localhost:8080/"
        },
        "outputId": "483f6c09-eb3b-4e7c-a7ad-2311221d80f0"
      },
      "execution_count": null,
      "outputs": [
        {
          "output_type": "stream",
          "name": "stderr",
          "text": [
            "<ipython-input-183-b8efd884b239>:1: SettingWithCopyWarning: \n",
            "A value is trying to be set on a copy of a slice from a DataFrame.\n",
            "Try using .loc[row_indexer,col_indexer] = value instead\n",
            "\n",
            "See the caveats in the documentation: https://pandas.pydata.org/pandas-docs/stable/user_guide/indexing.html#returning-a-view-versus-a-copy\n",
            "  df['kitchen_features'] = df['kitchen_features'].fillna('Others')\n",
            "<ipython-input-183-b8efd884b239>:2: SettingWithCopyWarning: \n",
            "A value is trying to be set on a copy of a slice from a DataFrame.\n",
            "Try using .loc[row_indexer,col_indexer] = value instead\n",
            "\n",
            "See the caveats in the documentation: https://pandas.pydata.org/pandas-docs/stable/user_guide/indexing.html#returning-a-view-versus-a-copy\n",
            "  df['floor_covering'] = df['floor_covering'].fillna('Others')\n"
          ]
        }
      ]
    },
    {
      "cell_type": "markdown",
      "source": [
        "# Converting data types"
      ],
      "metadata": {
        "id": "2yhAZ5D8ryVm"
      }
    },
    {
      "cell_type": "code",
      "source": [
        "df['sqrt_ft']=df['sqrt_ft'].astype('int')\n",
        "df['sold_price']=df['sold_price'].astype('int')\n",
        "df['HOA'] = pd.to_numeric(df['HOA'], errors='coerce')"
      ],
      "metadata": {
        "id": "IwQJ3B8SqkUN"
      },
      "execution_count": null,
      "outputs": []
    },
    {
      "cell_type": "markdown",
      "source": [
        "#Dropping duplicates if any"
      ],
      "metadata": {
        "id": "wJFYS_x4rq9R"
      }
    },
    {
      "cell_type": "code",
      "source": [
        "df.drop_duplicates(inplace=True)"
      ],
      "metadata": {
        "id": "Cx9J6_vupCIv"
      },
      "execution_count": null,
      "outputs": []
    },
    {
      "cell_type": "markdown",
      "source": [
        "#Feature Engineering"
      ],
      "metadata": {
        "id": "DW7KtuoD2Uyr"
      }
    },
    {
      "cell_type": "markdown",
      "source": [
        "## Calculating total rooms and dropping individual rooms later"
      ],
      "metadata": {
        "id": "_bDRovPfrc9_"
      }
    },
    {
      "cell_type": "code",
      "source": [
        "df['total_rooms'] = df['bathrooms']+df['bedrooms']"
      ],
      "metadata": {
        "id": "UjuZ9h23pxa9"
      },
      "execution_count": null,
      "outputs": []
    },
    {
      "cell_type": "code",
      "source": [
        "df = df.drop(['bedrooms', 'bathrooms'],axis=1)"
      ],
      "metadata": {
        "id": "03sdK0cWp8t8"
      },
      "execution_count": null,
      "outputs": []
    },
    {
      "cell_type": "markdown",
      "source": [
        "## Finding price per square feet"
      ],
      "metadata": {
        "id": "1Qq1lEgorYBU"
      }
    },
    {
      "cell_type": "code",
      "source": [
        "df['price_per_sqrtft'] = df['sold_price']/df['sqrt_ft']\n",
        "df['price_per_sqrtft'] = pd.to_numeric(df['price_per_sqrtft'], errors='coerce')"
      ],
      "metadata": {
        "id": "9-SyV-Xzp92v"
      },
      "execution_count": null,
      "outputs": []
    },
    {
      "cell_type": "code",
      "source": [
        "df"
      ],
      "metadata": {
        "colab": {
          "base_uri": "https://localhost:8080/"
        },
        "collapsed": true,
        "id": "qYqqDdg_qEG6",
        "outputId": "6e10cbcf-f519-4cb4-dce6-6ed9add012f6"
      },
      "execution_count": null,
      "outputs": [
        {
          "output_type": "execute_result",
          "data": {
            "text/plain": [
              "           MLS  sold_price  zipcode   longitude   latitude  lot_acres  \\\n",
              "0     21530491     5300000    85637 -110.378200  31.356362    2154.00   \n",
              "1     21529082     4200000    85646 -111.045371  31.594213    1707.00   \n",
              "4     21306357     3411450    85750 -110.813768  32.285162       3.21   \n",
              "5     21528016     3250000    85718 -110.910593  32.339090       1.67   \n",
              "6     21610478     2400000    85712 -110.883315  32.261069       2.10   \n",
              "...        ...         ...      ...         ...        ...        ...   \n",
              "4988  21814465      534000    85739 -110.859829  32.546570       0.29   \n",
              "4989  21902512      545000    85745 -111.061493  32.306472       1.19   \n",
              "4993  21908358      565000    85750 -110.820216  32.307646       0.83   \n",
              "4994  21909379      535000    85718 -110.922291  32.317496       0.18   \n",
              "4996  21908591      550000    85750 -110.858556  32.316373       1.42   \n",
              "\n",
              "         taxes  year_built  sqrt_ft  garage  \\\n",
              "0      5272.00        1941    10500     0.0   \n",
              "1     10422.36        1997     7300     0.0   \n",
              "4     15393.00        1995     6396     3.0   \n",
              "5     27802.84        1999     6842     3.0   \n",
              "6     19038.42        2001    12025     4.0   \n",
              "...        ...         ...      ...     ...   \n",
              "4988   4184.40        2006     2681     3.0   \n",
              "4989   6326.96        2007     3720     4.0   \n",
              "4993   4568.71        1986     2813     2.0   \n",
              "4994   4414.00        2002     2106     2.0   \n",
              "4996   4822.01        1990     2318     3.0   \n",
              "\n",
              "                                       kitchen_features  fireplaces  \\\n",
              "0               Dishwasher, Freezer, Refrigerator, Oven         6.0   \n",
              "1                          Dishwasher, Garbage Disposal         5.0   \n",
              "4     Dishwasher, Garbage Disposal, Refrigerator, Mi...         5.0   \n",
              "5     Dishwasher, Garbage Disposal, Refrigerator, Mi...         5.0   \n",
              "6                    Dishwasher, Garbage Disposal, Oven         6.0   \n",
              "...                                                 ...         ...   \n",
              "4988  Dishwasher, Double Sink, Electric Range, Garba...         1.0   \n",
              "4989  Dishwasher, Double Sink, Garbage Disposal, Gas...         1.0   \n",
              "4993  Dishwasher, Double Sink, Electric Range, Garba...         2.0   \n",
              "4994  Dishwasher, Double Sink, Electric Range, Garba...         1.0   \n",
              "4996  Dishwasher, Double Sink, Electric Range, Garba...         1.0   \n",
              "\n",
              "                          floor_covering    HOA  total_rooms  price_per_sqrtft  \n",
              "0                     Mexican Tile, Wood    0.0         23.0        504.761905  \n",
              "1                   Natural Stone, Other    0.0          4.0        575.342466  \n",
              "4                       Carpet, Concrete   55.0         10.0        533.372420  \n",
              "5             Natural Stone, Wood, Other  422.0          7.0        475.007308  \n",
              "6     Carpet, Natural Stone, Wood, Other    0.0         17.0        199.584200  \n",
              "...                                  ...    ...          ...               ...  \n",
              "4988                Carpet, Ceramic Tile  180.0          5.0        199.179411  \n",
              "4989                        Ceramic Tile   12.0          7.0        146.505376  \n",
              "4993                Carpet, Mexican Tile    6.0          7.0        200.853182  \n",
              "4994                        Ceramic Tile  198.0          5.0        254.036087  \n",
              "4996                Carpet, Ceramic Tile   43.0          7.0        237.273512  \n",
              "\n",
              "[4370 rows x 16 columns]"
            ],
            "text/html": [
              "\n",
              "  <div id=\"df-0b47cea6-c5a9-4685-9672-404ff7a2feb3\" class=\"colab-df-container\">\n",
              "    <div>\n",
              "<style scoped>\n",
              "    .dataframe tbody tr th:only-of-type {\n",
              "        vertical-align: middle;\n",
              "    }\n",
              "\n",
              "    .dataframe tbody tr th {\n",
              "        vertical-align: top;\n",
              "    }\n",
              "\n",
              "    .dataframe thead th {\n",
              "        text-align: right;\n",
              "    }\n",
              "</style>\n",
              "<table border=\"1\" class=\"dataframe\">\n",
              "  <thead>\n",
              "    <tr style=\"text-align: right;\">\n",
              "      <th></th>\n",
              "      <th>MLS</th>\n",
              "      <th>sold_price</th>\n",
              "      <th>zipcode</th>\n",
              "      <th>longitude</th>\n",
              "      <th>latitude</th>\n",
              "      <th>lot_acres</th>\n",
              "      <th>taxes</th>\n",
              "      <th>year_built</th>\n",
              "      <th>sqrt_ft</th>\n",
              "      <th>garage</th>\n",
              "      <th>kitchen_features</th>\n",
              "      <th>fireplaces</th>\n",
              "      <th>floor_covering</th>\n",
              "      <th>HOA</th>\n",
              "      <th>total_rooms</th>\n",
              "      <th>price_per_sqrtft</th>\n",
              "    </tr>\n",
              "  </thead>\n",
              "  <tbody>\n",
              "    <tr>\n",
              "      <th>0</th>\n",
              "      <td>21530491</td>\n",
              "      <td>5300000</td>\n",
              "      <td>85637</td>\n",
              "      <td>-110.378200</td>\n",
              "      <td>31.356362</td>\n",
              "      <td>2154.00</td>\n",
              "      <td>5272.00</td>\n",
              "      <td>1941</td>\n",
              "      <td>10500</td>\n",
              "      <td>0.0</td>\n",
              "      <td>Dishwasher, Freezer, Refrigerator, Oven</td>\n",
              "      <td>6.0</td>\n",
              "      <td>Mexican Tile, Wood</td>\n",
              "      <td>0.0</td>\n",
              "      <td>23.0</td>\n",
              "      <td>504.761905</td>\n",
              "    </tr>\n",
              "    <tr>\n",
              "      <th>1</th>\n",
              "      <td>21529082</td>\n",
              "      <td>4200000</td>\n",
              "      <td>85646</td>\n",
              "      <td>-111.045371</td>\n",
              "      <td>31.594213</td>\n",
              "      <td>1707.00</td>\n",
              "      <td>10422.36</td>\n",
              "      <td>1997</td>\n",
              "      <td>7300</td>\n",
              "      <td>0.0</td>\n",
              "      <td>Dishwasher, Garbage Disposal</td>\n",
              "      <td>5.0</td>\n",
              "      <td>Natural Stone, Other</td>\n",
              "      <td>0.0</td>\n",
              "      <td>4.0</td>\n",
              "      <td>575.342466</td>\n",
              "    </tr>\n",
              "    <tr>\n",
              "      <th>4</th>\n",
              "      <td>21306357</td>\n",
              "      <td>3411450</td>\n",
              "      <td>85750</td>\n",
              "      <td>-110.813768</td>\n",
              "      <td>32.285162</td>\n",
              "      <td>3.21</td>\n",
              "      <td>15393.00</td>\n",
              "      <td>1995</td>\n",
              "      <td>6396</td>\n",
              "      <td>3.0</td>\n",
              "      <td>Dishwasher, Garbage Disposal, Refrigerator, Mi...</td>\n",
              "      <td>5.0</td>\n",
              "      <td>Carpet, Concrete</td>\n",
              "      <td>55.0</td>\n",
              "      <td>10.0</td>\n",
              "      <td>533.372420</td>\n",
              "    </tr>\n",
              "    <tr>\n",
              "      <th>5</th>\n",
              "      <td>21528016</td>\n",
              "      <td>3250000</td>\n",
              "      <td>85718</td>\n",
              "      <td>-110.910593</td>\n",
              "      <td>32.339090</td>\n",
              "      <td>1.67</td>\n",
              "      <td>27802.84</td>\n",
              "      <td>1999</td>\n",
              "      <td>6842</td>\n",
              "      <td>3.0</td>\n",
              "      <td>Dishwasher, Garbage Disposal, Refrigerator, Mi...</td>\n",
              "      <td>5.0</td>\n",
              "      <td>Natural Stone, Wood, Other</td>\n",
              "      <td>422.0</td>\n",
              "      <td>7.0</td>\n",
              "      <td>475.007308</td>\n",
              "    </tr>\n",
              "    <tr>\n",
              "      <th>6</th>\n",
              "      <td>21610478</td>\n",
              "      <td>2400000</td>\n",
              "      <td>85712</td>\n",
              "      <td>-110.883315</td>\n",
              "      <td>32.261069</td>\n",
              "      <td>2.10</td>\n",
              "      <td>19038.42</td>\n",
              "      <td>2001</td>\n",
              "      <td>12025</td>\n",
              "      <td>4.0</td>\n",
              "      <td>Dishwasher, Garbage Disposal, Oven</td>\n",
              "      <td>6.0</td>\n",
              "      <td>Carpet, Natural Stone, Wood, Other</td>\n",
              "      <td>0.0</td>\n",
              "      <td>17.0</td>\n",
              "      <td>199.584200</td>\n",
              "    </tr>\n",
              "    <tr>\n",
              "      <th>...</th>\n",
              "      <td>...</td>\n",
              "      <td>...</td>\n",
              "      <td>...</td>\n",
              "      <td>...</td>\n",
              "      <td>...</td>\n",
              "      <td>...</td>\n",
              "      <td>...</td>\n",
              "      <td>...</td>\n",
              "      <td>...</td>\n",
              "      <td>...</td>\n",
              "      <td>...</td>\n",
              "      <td>...</td>\n",
              "      <td>...</td>\n",
              "      <td>...</td>\n",
              "      <td>...</td>\n",
              "      <td>...</td>\n",
              "    </tr>\n",
              "    <tr>\n",
              "      <th>4988</th>\n",
              "      <td>21814465</td>\n",
              "      <td>534000</td>\n",
              "      <td>85739</td>\n",
              "      <td>-110.859829</td>\n",
              "      <td>32.546570</td>\n",
              "      <td>0.29</td>\n",
              "      <td>4184.40</td>\n",
              "      <td>2006</td>\n",
              "      <td>2681</td>\n",
              "      <td>3.0</td>\n",
              "      <td>Dishwasher, Double Sink, Electric Range, Garba...</td>\n",
              "      <td>1.0</td>\n",
              "      <td>Carpet, Ceramic Tile</td>\n",
              "      <td>180.0</td>\n",
              "      <td>5.0</td>\n",
              "      <td>199.179411</td>\n",
              "    </tr>\n",
              "    <tr>\n",
              "      <th>4989</th>\n",
              "      <td>21902512</td>\n",
              "      <td>545000</td>\n",
              "      <td>85745</td>\n",
              "      <td>-111.061493</td>\n",
              "      <td>32.306472</td>\n",
              "      <td>1.19</td>\n",
              "      <td>6326.96</td>\n",
              "      <td>2007</td>\n",
              "      <td>3720</td>\n",
              "      <td>4.0</td>\n",
              "      <td>Dishwasher, Double Sink, Garbage Disposal, Gas...</td>\n",
              "      <td>1.0</td>\n",
              "      <td>Ceramic Tile</td>\n",
              "      <td>12.0</td>\n",
              "      <td>7.0</td>\n",
              "      <td>146.505376</td>\n",
              "    </tr>\n",
              "    <tr>\n",
              "      <th>4993</th>\n",
              "      <td>21908358</td>\n",
              "      <td>565000</td>\n",
              "      <td>85750</td>\n",
              "      <td>-110.820216</td>\n",
              "      <td>32.307646</td>\n",
              "      <td>0.83</td>\n",
              "      <td>4568.71</td>\n",
              "      <td>1986</td>\n",
              "      <td>2813</td>\n",
              "      <td>2.0</td>\n",
              "      <td>Dishwasher, Double Sink, Electric Range, Garba...</td>\n",
              "      <td>2.0</td>\n",
              "      <td>Carpet, Mexican Tile</td>\n",
              "      <td>6.0</td>\n",
              "      <td>7.0</td>\n",
              "      <td>200.853182</td>\n",
              "    </tr>\n",
              "    <tr>\n",
              "      <th>4994</th>\n",
              "      <td>21909379</td>\n",
              "      <td>535000</td>\n",
              "      <td>85718</td>\n",
              "      <td>-110.922291</td>\n",
              "      <td>32.317496</td>\n",
              "      <td>0.18</td>\n",
              "      <td>4414.00</td>\n",
              "      <td>2002</td>\n",
              "      <td>2106</td>\n",
              "      <td>2.0</td>\n",
              "      <td>Dishwasher, Double Sink, Electric Range, Garba...</td>\n",
              "      <td>1.0</td>\n",
              "      <td>Ceramic Tile</td>\n",
              "      <td>198.0</td>\n",
              "      <td>5.0</td>\n",
              "      <td>254.036087</td>\n",
              "    </tr>\n",
              "    <tr>\n",
              "      <th>4996</th>\n",
              "      <td>21908591</td>\n",
              "      <td>550000</td>\n",
              "      <td>85750</td>\n",
              "      <td>-110.858556</td>\n",
              "      <td>32.316373</td>\n",
              "      <td>1.42</td>\n",
              "      <td>4822.01</td>\n",
              "      <td>1990</td>\n",
              "      <td>2318</td>\n",
              "      <td>3.0</td>\n",
              "      <td>Dishwasher, Double Sink, Electric Range, Garba...</td>\n",
              "      <td>1.0</td>\n",
              "      <td>Carpet, Ceramic Tile</td>\n",
              "      <td>43.0</td>\n",
              "      <td>7.0</td>\n",
              "      <td>237.273512</td>\n",
              "    </tr>\n",
              "  </tbody>\n",
              "</table>\n",
              "<p>4370 rows × 16 columns</p>\n",
              "</div>\n",
              "    <div class=\"colab-df-buttons\">\n",
              "\n",
              "  <div class=\"colab-df-container\">\n",
              "    <button class=\"colab-df-convert\" onclick=\"convertToInteractive('df-0b47cea6-c5a9-4685-9672-404ff7a2feb3')\"\n",
              "            title=\"Convert this dataframe to an interactive table.\"\n",
              "            style=\"display:none;\">\n",
              "\n",
              "  <svg xmlns=\"http://www.w3.org/2000/svg\" height=\"24px\" viewBox=\"0 -960 960 960\">\n",
              "    <path d=\"M120-120v-720h720v720H120Zm60-500h600v-160H180v160Zm220 220h160v-160H400v160Zm0 220h160v-160H400v160ZM180-400h160v-160H180v160Zm440 0h160v-160H620v160ZM180-180h160v-160H180v160Zm440 0h160v-160H620v160Z\"/>\n",
              "  </svg>\n",
              "    </button>\n",
              "\n",
              "  <style>\n",
              "    .colab-df-container {\n",
              "      display:flex;\n",
              "      gap: 12px;\n",
              "    }\n",
              "\n",
              "    .colab-df-convert {\n",
              "      background-color: #E8F0FE;\n",
              "      border: none;\n",
              "      border-radius: 50%;\n",
              "      cursor: pointer;\n",
              "      display: none;\n",
              "      fill: #1967D2;\n",
              "      height: 32px;\n",
              "      padding: 0 0 0 0;\n",
              "      width: 32px;\n",
              "    }\n",
              "\n",
              "    .colab-df-convert:hover {\n",
              "      background-color: #E2EBFA;\n",
              "      box-shadow: 0px 1px 2px rgba(60, 64, 67, 0.3), 0px 1px 3px 1px rgba(60, 64, 67, 0.15);\n",
              "      fill: #174EA6;\n",
              "    }\n",
              "\n",
              "    .colab-df-buttons div {\n",
              "      margin-bottom: 4px;\n",
              "    }\n",
              "\n",
              "    [theme=dark] .colab-df-convert {\n",
              "      background-color: #3B4455;\n",
              "      fill: #D2E3FC;\n",
              "    }\n",
              "\n",
              "    [theme=dark] .colab-df-convert:hover {\n",
              "      background-color: #434B5C;\n",
              "      box-shadow: 0px 1px 3px 1px rgba(0, 0, 0, 0.15);\n",
              "      filter: drop-shadow(0px 1px 2px rgba(0, 0, 0, 0.3));\n",
              "      fill: #FFFFFF;\n",
              "    }\n",
              "  </style>\n",
              "\n",
              "    <script>\n",
              "      const buttonEl =\n",
              "        document.querySelector('#df-0b47cea6-c5a9-4685-9672-404ff7a2feb3 button.colab-df-convert');\n",
              "      buttonEl.style.display =\n",
              "        google.colab.kernel.accessAllowed ? 'block' : 'none';\n",
              "\n",
              "      async function convertToInteractive(key) {\n",
              "        const element = document.querySelector('#df-0b47cea6-c5a9-4685-9672-404ff7a2feb3');\n",
              "        const dataTable =\n",
              "          await google.colab.kernel.invokeFunction('convertToInteractive',\n",
              "                                                    [key], {});\n",
              "        if (!dataTable) return;\n",
              "\n",
              "        const docLinkHtml = 'Like what you see? Visit the ' +\n",
              "          '<a target=\"_blank\" href=https://colab.research.google.com/notebooks/data_table.ipynb>data table notebook</a>'\n",
              "          + ' to learn more about interactive tables.';\n",
              "        element.innerHTML = '';\n",
              "        dataTable['output_type'] = 'display_data';\n",
              "        await google.colab.output.renderOutput(dataTable, element);\n",
              "        const docLink = document.createElement('div');\n",
              "        docLink.innerHTML = docLinkHtml;\n",
              "        element.appendChild(docLink);\n",
              "      }\n",
              "    </script>\n",
              "  </div>\n",
              "\n",
              "\n",
              "<div id=\"df-ab6f11ad-aa90-44e9-960d-258104d60d65\">\n",
              "  <button class=\"colab-df-quickchart\" onclick=\"quickchart('df-ab6f11ad-aa90-44e9-960d-258104d60d65')\"\n",
              "            title=\"Suggest charts\"\n",
              "            style=\"display:none;\">\n",
              "\n",
              "<svg xmlns=\"http://www.w3.org/2000/svg\" height=\"24px\"viewBox=\"0 0 24 24\"\n",
              "     width=\"24px\">\n",
              "    <g>\n",
              "        <path d=\"M19 3H5c-1.1 0-2 .9-2 2v14c0 1.1.9 2 2 2h14c1.1 0 2-.9 2-2V5c0-1.1-.9-2-2-2zM9 17H7v-7h2v7zm4 0h-2V7h2v10zm4 0h-2v-4h2v4z\"/>\n",
              "    </g>\n",
              "</svg>\n",
              "  </button>\n",
              "\n",
              "<style>\n",
              "  .colab-df-quickchart {\n",
              "      --bg-color: #E8F0FE;\n",
              "      --fill-color: #1967D2;\n",
              "      --hover-bg-color: #E2EBFA;\n",
              "      --hover-fill-color: #174EA6;\n",
              "      --disabled-fill-color: #AAA;\n",
              "      --disabled-bg-color: #DDD;\n",
              "  }\n",
              "\n",
              "  [theme=dark] .colab-df-quickchart {\n",
              "      --bg-color: #3B4455;\n",
              "      --fill-color: #D2E3FC;\n",
              "      --hover-bg-color: #434B5C;\n",
              "      --hover-fill-color: #FFFFFF;\n",
              "      --disabled-bg-color: #3B4455;\n",
              "      --disabled-fill-color: #666;\n",
              "  }\n",
              "\n",
              "  .colab-df-quickchart {\n",
              "    background-color: var(--bg-color);\n",
              "    border: none;\n",
              "    border-radius: 50%;\n",
              "    cursor: pointer;\n",
              "    display: none;\n",
              "    fill: var(--fill-color);\n",
              "    height: 32px;\n",
              "    padding: 0;\n",
              "    width: 32px;\n",
              "  }\n",
              "\n",
              "  .colab-df-quickchart:hover {\n",
              "    background-color: var(--hover-bg-color);\n",
              "    box-shadow: 0 1px 2px rgba(60, 64, 67, 0.3), 0 1px 3px 1px rgba(60, 64, 67, 0.15);\n",
              "    fill: var(--button-hover-fill-color);\n",
              "  }\n",
              "\n",
              "  .colab-df-quickchart-complete:disabled,\n",
              "  .colab-df-quickchart-complete:disabled:hover {\n",
              "    background-color: var(--disabled-bg-color);\n",
              "    fill: var(--disabled-fill-color);\n",
              "    box-shadow: none;\n",
              "  }\n",
              "\n",
              "  .colab-df-spinner {\n",
              "    border: 2px solid var(--fill-color);\n",
              "    border-color: transparent;\n",
              "    border-bottom-color: var(--fill-color);\n",
              "    animation:\n",
              "      spin 1s steps(1) infinite;\n",
              "  }\n",
              "\n",
              "  @keyframes spin {\n",
              "    0% {\n",
              "      border-color: transparent;\n",
              "      border-bottom-color: var(--fill-color);\n",
              "      border-left-color: var(--fill-color);\n",
              "    }\n",
              "    20% {\n",
              "      border-color: transparent;\n",
              "      border-left-color: var(--fill-color);\n",
              "      border-top-color: var(--fill-color);\n",
              "    }\n",
              "    30% {\n",
              "      border-color: transparent;\n",
              "      border-left-color: var(--fill-color);\n",
              "      border-top-color: var(--fill-color);\n",
              "      border-right-color: var(--fill-color);\n",
              "    }\n",
              "    40% {\n",
              "      border-color: transparent;\n",
              "      border-right-color: var(--fill-color);\n",
              "      border-top-color: var(--fill-color);\n",
              "    }\n",
              "    60% {\n",
              "      border-color: transparent;\n",
              "      border-right-color: var(--fill-color);\n",
              "    }\n",
              "    80% {\n",
              "      border-color: transparent;\n",
              "      border-right-color: var(--fill-color);\n",
              "      border-bottom-color: var(--fill-color);\n",
              "    }\n",
              "    90% {\n",
              "      border-color: transparent;\n",
              "      border-bottom-color: var(--fill-color);\n",
              "    }\n",
              "  }\n",
              "</style>\n",
              "\n",
              "  <script>\n",
              "    async function quickchart(key) {\n",
              "      const quickchartButtonEl =\n",
              "        document.querySelector('#' + key + ' button');\n",
              "      quickchartButtonEl.disabled = true;  // To prevent multiple clicks.\n",
              "      quickchartButtonEl.classList.add('colab-df-spinner');\n",
              "      try {\n",
              "        const charts = await google.colab.kernel.invokeFunction(\n",
              "            'suggestCharts', [key], {});\n",
              "      } catch (error) {\n",
              "        console.error('Error during call to suggestCharts:', error);\n",
              "      }\n",
              "      quickchartButtonEl.classList.remove('colab-df-spinner');\n",
              "      quickchartButtonEl.classList.add('colab-df-quickchart-complete');\n",
              "    }\n",
              "    (() => {\n",
              "      let quickchartButtonEl =\n",
              "        document.querySelector('#df-ab6f11ad-aa90-44e9-960d-258104d60d65 button');\n",
              "      quickchartButtonEl.style.display =\n",
              "        google.colab.kernel.accessAllowed ? 'block' : 'none';\n",
              "    })();\n",
              "  </script>\n",
              "</div>\n",
              "\n",
              "  <div id=\"id_4b295c96-4ebe-411a-8c1e-dbe9381d807e\">\n",
              "    <style>\n",
              "      .colab-df-generate {\n",
              "        background-color: #E8F0FE;\n",
              "        border: none;\n",
              "        border-radius: 50%;\n",
              "        cursor: pointer;\n",
              "        display: none;\n",
              "        fill: #1967D2;\n",
              "        height: 32px;\n",
              "        padding: 0 0 0 0;\n",
              "        width: 32px;\n",
              "      }\n",
              "\n",
              "      .colab-df-generate:hover {\n",
              "        background-color: #E2EBFA;\n",
              "        box-shadow: 0px 1px 2px rgba(60, 64, 67, 0.3), 0px 1px 3px 1px rgba(60, 64, 67, 0.15);\n",
              "        fill: #174EA6;\n",
              "      }\n",
              "\n",
              "      [theme=dark] .colab-df-generate {\n",
              "        background-color: #3B4455;\n",
              "        fill: #D2E3FC;\n",
              "      }\n",
              "\n",
              "      [theme=dark] .colab-df-generate:hover {\n",
              "        background-color: #434B5C;\n",
              "        box-shadow: 0px 1px 3px 1px rgba(0, 0, 0, 0.15);\n",
              "        filter: drop-shadow(0px 1px 2px rgba(0, 0, 0, 0.3));\n",
              "        fill: #FFFFFF;\n",
              "      }\n",
              "    </style>\n",
              "    <button class=\"colab-df-generate\" onclick=\"generateWithVariable('df')\"\n",
              "            title=\"Generate code using this dataframe.\"\n",
              "            style=\"display:none;\">\n",
              "\n",
              "  <svg xmlns=\"http://www.w3.org/2000/svg\" height=\"24px\"viewBox=\"0 0 24 24\"\n",
              "       width=\"24px\">\n",
              "    <path d=\"M7,19H8.4L18.45,9,17,7.55,7,17.6ZM5,21V16.75L18.45,3.32a2,2,0,0,1,2.83,0l1.4,1.43a1.91,1.91,0,0,1,.58,1.4,1.91,1.91,0,0,1-.58,1.4L9.25,21ZM18.45,9,17,7.55Zm-12,3A5.31,5.31,0,0,0,4.9,8.1,5.31,5.31,0,0,0,1,6.5,5.31,5.31,0,0,0,4.9,4.9,5.31,5.31,0,0,0,6.5,1,5.31,5.31,0,0,0,8.1,4.9,5.31,5.31,0,0,0,12,6.5,5.46,5.46,0,0,0,6.5,12Z\"/>\n",
              "  </svg>\n",
              "    </button>\n",
              "    <script>\n",
              "      (() => {\n",
              "      const buttonEl =\n",
              "        document.querySelector('#id_4b295c96-4ebe-411a-8c1e-dbe9381d807e button.colab-df-generate');\n",
              "      buttonEl.style.display =\n",
              "        google.colab.kernel.accessAllowed ? 'block' : 'none';\n",
              "\n",
              "      buttonEl.onclick = () => {\n",
              "        google.colab.notebook.generateWithVariable('df');\n",
              "      }\n",
              "      })();\n",
              "    </script>\n",
              "  </div>\n",
              "\n",
              "    </div>\n",
              "  </div>\n"
            ],
            "application/vnd.google.colaboratory.intrinsic+json": {
              "type": "dataframe",
              "variable_name": "df",
              "summary": "{\n  \"name\": \"df\",\n  \"rows\": 4370,\n  \"fields\": [\n    {\n      \"column\": \"MLS\",\n      \"properties\": {\n        \"dtype\": \"number\",\n        \"std\": 902437,\n        \"min\": 4111258,\n        \"max\": 21926082,\n        \"num_unique_values\": 4370,\n        \"samples\": [\n          21303495,\n          21602372,\n          21532869\n        ],\n        \"semantic_type\": \"\",\n        \"description\": \"\"\n      }\n    },\n    {\n      \"column\": \"sold_price\",\n      \"properties\": {\n        \"dtype\": \"number\",\n        \"std\": 317263,\n        \"min\": 375000,\n        \"max\": 5300000,\n        \"num_unique_values\": 1005,\n        \"samples\": [\n          537500,\n          662000,\n          659200\n        ],\n        \"semantic_type\": \"\",\n        \"description\": \"\"\n      }\n    },\n    {\n      \"column\": \"zipcode\",\n      \"properties\": {\n        \"dtype\": \"number\",\n        \"std\": 35,\n        \"min\": 85118,\n        \"max\": 86323,\n        \"num_unique_values\": 51,\n        \"samples\": [\n          85605,\n          85643,\n          85711\n        ],\n        \"semantic_type\": \"\",\n        \"description\": \"\"\n      }\n    },\n    {\n      \"column\": \"longitude\",\n      \"properties\": {\n        \"dtype\": \"number\",\n        \"std\": 0.11764474169003351,\n        \"min\": -112.520168,\n        \"max\": -109.454637,\n        \"num_unique_values\": 4190,\n        \"samples\": [\n          -110.86202,\n          -110.819012,\n          -110.950734\n        ],\n        \"semantic_type\": \"\",\n        \"description\": \"\"\n      }\n    },\n    {\n      \"column\": \"latitude\",\n      \"properties\": {\n        \"dtype\": \"number\",\n        \"std\": 0.15518995686720666,\n        \"min\": 31.356362,\n        \"max\": 34.927884,\n        \"num_unique_values\": 4232,\n        \"samples\": [\n          32.327211,\n          32.30008,\n          32.327922\n        ],\n        \"semantic_type\": \"\",\n        \"description\": \"\"\n      }\n    },\n    {\n      \"column\": \"lot_acres\",\n      \"properties\": {\n        \"dtype\": \"number\",\n        \"std\": 46.530922964476886,\n        \"min\": 0.0,\n        \"max\": 2154.0,\n        \"num_unique_values\": 572,\n        \"samples\": [\n          72.62,\n          1.12,\n          1.54\n        ],\n        \"semantic_type\": \"\",\n        \"description\": \"\"\n      }\n    },\n    {\n      \"column\": \"taxes\",\n      \"properties\": {\n        \"dtype\": \"number\",\n        \"std\": 184710.9879085697,\n        \"min\": 0.0,\n        \"max\": 12215075.0,\n        \"num_unique_values\": 4153,\n        \"samples\": [\n          13011.62,\n          7693.88,\n          7268.93\n        ],\n        \"semantic_type\": \"\",\n        \"description\": \"\"\n      }\n    },\n    {\n      \"column\": \"year_built\",\n      \"properties\": {\n        \"dtype\": \"number\",\n        \"std\": 69,\n        \"min\": 0,\n        \"max\": 2019,\n        \"num_unique_values\": 103,\n        \"samples\": [\n          2013,\n          1937,\n          1947\n        ],\n        \"semantic_type\": \"\",\n        \"description\": \"\"\n      }\n    },\n    {\n      \"column\": \"sqrt_ft\",\n      \"properties\": {\n        \"dtype\": \"number\",\n        \"std\": 1069,\n        \"min\": 1100,\n        \"max\": 21915,\n        \"num_unique_values\": 2193,\n        \"samples\": [\n          4877,\n          3306,\n          2763\n        ],\n        \"semantic_type\": \"\",\n        \"description\": \"\"\n      }\n    },\n    {\n      \"column\": \"garage\",\n      \"properties\": {\n        \"dtype\": \"number\",\n        \"std\": 1.1014892153990026,\n        \"min\": 0.0,\n        \"max\": 30.0,\n        \"num_unique_values\": 17,\n        \"samples\": [\n          0.0,\n          3.0,\n          6.0\n        ],\n        \"semantic_type\": \"\",\n        \"description\": \"\"\n      }\n    },\n    {\n      \"column\": \"kitchen_features\",\n      \"properties\": {\n        \"dtype\": \"category\",\n        \"num_unique_values\": 1301,\n        \"samples\": [\n          \"Dishwasher, Double Sink, Garbage Disposal, Gas Range, Island, Pantry: Walk-In, Refrigerator, Appliance Color: Stainless, Countertops: Quartz, Missing: wine refrigerator, Microwave: Microwave, Oven: Double oven\",\n          \"Compactor, Dishwasher, Double Sink, Electric Range, Freezer, Garbage Disposal, Island, Pantry: Cabinet, Prep Sink, Refrigerator, Appliance Color: Stainless, Countertops: Granite, Microwave: Stainless Steel, Oven: Gas\",\n          \"Dishwasher, Garbage Disposal, Pantry: Closet, Refrigerator, Appliance Color: Stainless, Countertops: Granite, Microwave: Installed, Oven: Double\"\n        ],\n        \"semantic_type\": \"\",\n        \"description\": \"\"\n      }\n    },\n    {\n      \"column\": \"fireplaces\",\n      \"properties\": {\n        \"dtype\": \"number\",\n        \"std\": 1.135721263897518,\n        \"min\": 0.0,\n        \"max\": 9.0,\n        \"num_unique_values\": 10,\n        \"samples\": [\n          9.0,\n          5.0,\n          3.0\n        ],\n        \"semantic_type\": \"\",\n        \"description\": \"\"\n      }\n    },\n    {\n      \"column\": \"floor_covering\",\n      \"properties\": {\n        \"dtype\": \"category\",\n        \"num_unique_values\": 230,\n        \"samples\": [\n          \"Carpet, Ceramic Tile, Other: NEW Plank Tile\",\n          \"Ceramic Tile, Indoor/Outdoor, Wood, Other\",\n          \"Carpet, Natural Stone\"\n        ],\n        \"semantic_type\": \"\",\n        \"description\": \"\"\n      }\n    },\n    {\n      \"column\": \"HOA\",\n      \"properties\": {\n        \"dtype\": \"number\",\n        \"std\": 91.79663474891066,\n        \"min\": 0.0,\n        \"max\": 925.0,\n        \"num_unique_values\": 359,\n        \"samples\": [\n          16.67,\n          149.0,\n          40.78\n        ],\n        \"semantic_type\": \"\",\n        \"description\": \"\"\n      }\n    },\n    {\n      \"column\": \"total_rooms\",\n      \"properties\": {\n        \"dtype\": \"number\",\n        \"std\": 1.925440929322282,\n        \"min\": 2.0,\n        \"max\": 71.0,\n        \"num_unique_values\": 22,\n        \"samples\": [\n          23.0,\n          28.0,\n          13.0\n        ],\n        \"semantic_type\": \"\",\n        \"description\": \"\"\n      }\n    },\n    {\n      \"column\": \"price_per_sqrtft\",\n      \"properties\": {\n        \"dtype\": \"number\",\n        \"std\": 65.36421987929836,\n        \"min\": 31.713438284280173,\n        \"max\": 1208.3333333333333,\n        \"num_unique_values\": 4258,\n        \"samples\": [\n          344.19876909049464,\n          253.86861313868613,\n          104.66736328805294\n        ],\n        \"semantic_type\": \"\",\n        \"description\": \"\"\n      }\n    }\n  ]\n}"
            }
          },
          "metadata": {},
          "execution_count": 189
        }
      ]
    },
    {
      "cell_type": "markdown",
      "source": [
        "#Handling inf values"
      ],
      "metadata": {
        "id": "QjRPvsOdrThz"
      }
    },
    {
      "cell_type": "code",
      "source": [
        "pd.set_option('mode.use_inf_as_na', True)"
      ],
      "metadata": {
        "colab": {
          "base_uri": "https://localhost:8080/"
        },
        "id": "udgFDGrbqGU2",
        "outputId": "699c12ea-5106-4350-a2cc-c4b971835eae"
      },
      "execution_count": null,
      "outputs": [
        {
          "output_type": "stream",
          "name": "stderr",
          "text": [
            "<ipython-input-190-c240f4aa3757>:1: FutureWarning: use_inf_as_na option is deprecated and will be removed in a future version. Convert inf values to NaN before operating instead.\n",
            "  pd.set_option('mode.use_inf_as_na', True)\n"
          ]
        }
      ]
    },
    {
      "cell_type": "code",
      "source": [
        "df['price_per_sqrtft'] = df['price_per_sqrtft'].replace(np.nan,0)"
      ],
      "metadata": {
        "id": "DAbf5HNtrFR1"
      },
      "execution_count": null,
      "outputs": []
    },
    {
      "cell_type": "markdown",
      "source": [
        "#Binning based on k=20"
      ],
      "metadata": {
        "id": "l54FxcVcrLLc"
      }
    },
    {
      "cell_type": "code",
      "source": [
        "df[\"bins\"] = pd.qcut(df[\"price_per_sqrtft\"], q=20, labels=False)"
      ],
      "metadata": {
        "id": "1JZahb8KrH_M"
      },
      "execution_count": null,
      "outputs": []
    },
    {
      "cell_type": "code",
      "source": [
        "df.to_csv('housing_clean_dataset.csv')"
      ],
      "metadata": {
        "id": "9wnfJ0uU3Hdc"
      },
      "execution_count": null,
      "outputs": []
    },
    {
      "cell_type": "markdown",
      "source": [
        "# Corelation heatmap between important features"
      ],
      "metadata": {
        "id": "Y6CgCW721TR4"
      }
    },
    {
      "cell_type": "code",
      "source": [
        "# Create correlation heatmap\n",
        "important_features = ['sold_price', 'sqrt_ft', 'lot_acres', 'year_built', 'garage', 'taxes', 'total_rooms']\n",
        "\n",
        "# Create a correlation matrix for the important features\n",
        "corr_matrix = df[important_features].corr()\n",
        "\n",
        "# Create the heatmap\n",
        "plt.figure(figsize=(12, 10))\n",
        "sns.heatmap(corr_matrix, annot=True, vmin=-1, vmax=1, center=0, fmt='.2f')\n",
        "plt.title('Correlation Heatmap of Important House Price Features')\n",
        "plt.show()"
      ],
      "metadata": {
        "colab": {
          "base_uri": "https://localhost:8080/"
        },
        "collapsed": true,
        "id": "ts4n1_zj1StO",
        "outputId": "67d567ca-66a9-43a7-dd40-50f28467538c"
      },
      "execution_count": null,
      "outputs": [
        {
          "output_type": "display_data",
          "data": {
            "text/plain": [
              "<Figure size 1200x1000 with 2 Axes>"
            ],
            "image/png": "[encoded data removed]"
          },
          "metadata": {}
        }
      ]
    },
    {
      "cell_type": "code",
      "source": [
        "new_df=df[['longitude', 'latitude', 'bins']]"
      ],
      "metadata": {
        "id": "DO5YXtCOscmm"
      },
      "execution_count": null,
      "outputs": []
    },
    {
      "cell_type": "code",
      "source": [
        "new_df"
      ],
      "metadata": {
        "colab": {
          "base_uri": "https://localhost:8080/"
        },
        "id": "34iNPVjXtDG3",
        "outputId": "b905d224-6cac-49aa-dabb-16d94329a38d"
      },
      "execution_count": null,
      "outputs": [
        {
          "output_type": "execute_result",
          "data": {
            "text/plain": [
              "       longitude   latitude  bins\n",
              "0    -110.378200  31.356362    19\n",
              "1    -111.045371  31.594213    19\n",
              "4    -110.813768  32.285162    19\n",
              "5    -110.910593  32.339090    19\n",
              "6    -110.883315  32.261069     9\n",
              "...          ...        ...   ...\n",
              "4988 -110.859829  32.546570     9\n",
              "4989 -111.061493  32.306472     1\n",
              "4993 -110.820216  32.307646     9\n",
              "4994 -110.922291  32.317496    16\n",
              "4996 -110.858556  32.316373    15\n",
              "\n",
              "[4370 rows x 3 columns]"
            ],
            "text/html": [
              "\n",
              "  <div id=\"df-2f36ae43-7a59-4c07-82a0-b4ff9ed9dce6\" class=\"colab-df-container\">\n",
              "    <div>\n",
              "<style scoped>\n",
              "    .dataframe tbody tr th:only-of-type {\n",
              "        vertical-align: middle;\n",
              "    }\n",
              "\n",
              "    .dataframe tbody tr th {\n",
              "        vertical-align: top;\n",
              "    }\n",
              "\n",
              "    .dataframe thead th {\n",
              "        text-align: right;\n",
              "    }\n",
              "</style>\n",
              "<table border=\"1\" class=\"dataframe\">\n",
              "  <thead>\n",
              "    <tr style=\"text-align: right;\">\n",
              "      <th></th>\n",
              "      <th>longitude</th>\n",
              "      <th>latitude</th>\n",
              "      <th>bins</th>\n",
              "    </tr>\n",
              "  </thead>\n",
              "  <tbody>\n",
              "    <tr>\n",
              "      <th>0</th>\n",
              "      <td>-110.378200</td>\n",
              "      <td>31.356362</td>\n",
              "      <td>19</td>\n",
              "    </tr>\n",
              "    <tr>\n",
              "      <th>1</th>\n",
              "      <td>-111.045371</td>\n",
              "      <td>31.594213</td>\n",
              "      <td>19</td>\n",
              "    </tr>\n",
              "    <tr>\n",
              "      <th>4</th>\n",
              "      <td>-110.813768</td>\n",
              "      <td>32.285162</td>\n",
              "      <td>19</td>\n",
              "    </tr>\n",
              "    <tr>\n",
              "      <th>5</th>\n",
              "      <td>-110.910593</td>\n",
              "      <td>32.339090</td>\n",
              "      <td>19</td>\n",
              "    </tr>\n",
              "    <tr>\n",
              "      <th>6</th>\n",
              "      <td>-110.883315</td>\n",
              "      <td>32.261069</td>\n",
              "      <td>9</td>\n",
              "    </tr>\n",
              "    <tr>\n",
              "      <th>...</th>\n",
              "      <td>...</td>\n",
              "      <td>...</td>\n",
              "      <td>...</td>\n",
              "    </tr>\n",
              "    <tr>\n",
              "      <th>4988</th>\n",
              "      <td>-110.859829</td>\n",
              "      <td>32.546570</td>\n",
              "      <td>9</td>\n",
              "    </tr>\n",
              "    <tr>\n",
              "      <th>4989</th>\n",
              "      <td>-111.061493</td>\n",
              "      <td>32.306472</td>\n",
              "      <td>1</td>\n",
              "    </tr>\n",
              "    <tr>\n",
              "      <th>4993</th>\n",
              "      <td>-110.820216</td>\n",
              "      <td>32.307646</td>\n",
              "      <td>9</td>\n",
              "    </tr>\n",
              "    <tr>\n",
              "      <th>4994</th>\n",
              "      <td>-110.922291</td>\n",
              "      <td>32.317496</td>\n",
              "      <td>16</td>\n",
              "    </tr>\n",
              "    <tr>\n",
              "      <th>4996</th>\n",
              "      <td>-110.858556</td>\n",
              "      <td>32.316373</td>\n",
              "      <td>15</td>\n",
              "    </tr>\n",
              "  </tbody>\n",
              "</table>\n",
              "<p>4370 rows × 3 columns</p>\n",
              "</div>\n",
              "    <div class=\"colab-df-buttons\">\n",
              "\n",
              "  <div class=\"colab-df-container\">\n",
              "    <button class=\"colab-df-convert\" onclick=\"convertToInteractive('df-2f36ae43-7a59-4c07-82a0-b4ff9ed9dce6')\"\n",
              "            title=\"Convert this dataframe to an interactive table.\"\n",
              "            style=\"display:none;\">\n",
              "\n",
              "  <svg xmlns=\"http://www.w3.org/2000/svg\" height=\"24px\" viewBox=\"0 -960 960 960\">\n",
              "    <path d=\"M120-120v-720h720v720H120Zm60-500h600v-160H180v160Zm220 220h160v-160H400v160Zm0 220h160v-160H400v160ZM180-400h160v-160H180v160Zm440 0h160v-160H620v160ZM180-180h160v-160H180v160Zm440 0h160v-160H620v160Z\"/>\n",
              "  </svg>\n",
              "    </button>\n",
              "\n",
              "  <style>\n",
              "    .colab-df-container {\n",
              "      display:flex;\n",
              "      gap: 12px;\n",
              "    }\n",
              "\n",
              "    .colab-df-convert {\n",
              "      background-color: #E8F0FE;\n",
              "      border: none;\n",
              "      border-radius: 50%;\n",
              "      cursor: pointer;\n",
              "      display: none;\n",
              "      fill: #1967D2;\n",
              "      height: 32px;\n",
              "      padding: 0 0 0 0;\n",
              "      width: 32px;\n",
              "    }\n",
              "\n",
              "    .colab-df-convert:hover {\n",
              "      background-color: #E2EBFA;\n",
              "      box-shadow: 0px 1px 2px rgba(60, 64, 67, 0.3), 0px 1px 3px 1px rgba(60, 64, 67, 0.15);\n",
              "      fill: #174EA6;\n",
              "    }\n",
              "\n",
              "    .colab-df-buttons div {\n",
              "      margin-bottom: 4px;\n",
              "    }\n",
              "\n",
              "    [theme=dark] .colab-df-convert {\n",
              "      background-color: #3B4455;\n",
              "      fill: #D2E3FC;\n",
              "    }\n",
              "\n",
              "    [theme=dark] .colab-df-convert:hover {\n",
              "      background-color: #434B5C;\n",
              "      box-shadow: 0px 1px 3px 1px rgba(0, 0, 0, 0.15);\n",
              "      filter: drop-shadow(0px 1px 2px rgba(0, 0, 0, 0.3));\n",
              "      fill: #FFFFFF;\n",
              "    }\n",
              "  </style>\n",
              "\n",
              "    <script>\n",
              "      const buttonEl =\n",
              "        document.querySelector('#df-2f36ae43-7a59-4c07-82a0-b4ff9ed9dce6 button.colab-df-convert');\n",
              "      buttonEl.style.display =\n",
              "        google.colab.kernel.accessAllowed ? 'block' : 'none';\n",
              "\n",
              "      async function convertToInteractive(key) {\n",
              "        const element = document.querySelector('#df-2f36ae43-7a59-4c07-82a0-b4ff9ed9dce6');\n",
              "        const dataTable =\n",
              "          await google.colab.kernel.invokeFunction('convertToInteractive',\n",
              "                                                    [key], {});\n",
              "        if (!dataTable) return;\n",
              "\n",
              "        const docLinkHtml = 'Like what you see? Visit the ' +\n",
              "          '<a target=\"_blank\" href=https://colab.research.google.com/notebooks/data_table.ipynb>data table notebook</a>'\n",
              "          + ' to learn more about interactive tables.';\n",
              "        element.innerHTML = '';\n",
              "        dataTable['output_type'] = 'display_data';\n",
              "        await google.colab.output.renderOutput(dataTable, element);\n",
              "        const docLink = document.createElement('div');\n",
              "        docLink.innerHTML = docLinkHtml;\n",
              "        element.appendChild(docLink);\n",
              "      }\n",
              "    </script>\n",
              "  </div>\n",
              "\n",
              "\n",
              "<div id=\"df-8a9ff981-b8fd-4de5-b25f-175c58ad8b11\">\n",
              "  <button class=\"colab-df-quickchart\" onclick=\"quickchart('df-8a9ff981-b8fd-4de5-b25f-175c58ad8b11')\"\n",
              "            title=\"Suggest charts\"\n",
              "            style=\"display:none;\">\n",
              "\n",
              "<svg xmlns=\"http://www.w3.org/2000/svg\" height=\"24px\"viewBox=\"0 0 24 24\"\n",
              "     width=\"24px\">\n",
              "    <g>\n",
              "        <path d=\"M19 3H5c-1.1 0-2 .9-2 2v14c0 1.1.9 2 2 2h14c1.1 0 2-.9 2-2V5c0-1.1-.9-2-2-2zM9 17H7v-7h2v7zm4 0h-2V7h2v10zm4 0h-2v-4h2v4z\"/>\n",
              "    </g>\n",
              "</svg>\n",
              "  </button>\n",
              "\n",
              "<style>\n",
              "  .colab-df-quickchart {\n",
              "      --bg-color: #E8F0FE;\n",
              "      --fill-color: #1967D2;\n",
              "      --hover-bg-color: #E2EBFA;\n",
              "      --hover-fill-color: #174EA6;\n",
              "      --disabled-fill-color: #AAA;\n",
              "      --disabled-bg-color: #DDD;\n",
              "  }\n",
              "\n",
              "  [theme=dark] .colab-df-quickchart {\n",
              "      --bg-color: #3B4455;\n",
              "      --fill-color: #D2E3FC;\n",
              "      --hover-bg-color: #434B5C;\n",
              "      --hover-fill-color: #FFFFFF;\n",
              "      --disabled-bg-color: #3B4455;\n",
              "      --disabled-fill-color: #666;\n",
              "  }\n",
              "\n",
              "  .colab-df-quickchart {\n",
              "    background-color: var(--bg-color);\n",
              "    border: none;\n",
              "    border-radius: 50%;\n",
              "    cursor: pointer;\n",
              "    display: none;\n",
              "    fill: var(--fill-color);\n",
              "    height: 32px;\n",
              "    padding: 0;\n",
              "    width: 32px;\n",
              "  }\n",
              "\n",
              "  .colab-df-quickchart:hover {\n",
              "    background-color: var(--hover-bg-color);\n",
              "    box-shadow: 0 1px 2px rgba(60, 64, 67, 0.3), 0 1px 3px 1px rgba(60, 64, 67, 0.15);\n",
              "    fill: var(--button-hover-fill-color);\n",
              "  }\n",
              "\n",
              "  .colab-df-quickchart-complete:disabled,\n",
              "  .colab-df-quickchart-complete:disabled:hover {\n",
              "    background-color: var(--disabled-bg-color);\n",
              "    fill: var(--disabled-fill-color);\n",
              "    box-shadow: none;\n",
              "  }\n",
              "\n",
              "  .colab-df-spinner {\n",
              "    border: 2px solid var(--fill-color);\n",
              "    border-color: transparent;\n",
              "    border-bottom-color: var(--fill-color);\n",
              "    animation:\n",
              "      spin 1s steps(1) infinite;\n",
              "  }\n",
              "\n",
              "  @keyframes spin {\n",
              "    0% {\n",
              "      border-color: transparent;\n",
              "      border-bottom-color: var(--fill-color);\n",
              "      border-left-color: var(--fill-color);\n",
              "    }\n",
              "    20% {\n",
              "      border-color: transparent;\n",
              "      border-left-color: var(--fill-color);\n",
              "      border-top-color: var(--fill-color);\n",
              "    }\n",
              "    30% {\n",
              "      border-color: transparent;\n",
              "      border-left-color: var(--fill-color);\n",
              "      border-top-color: var(--fill-color);\n",
              "      border-right-color: var(--fill-color);\n",
              "    }\n",
              "    40% {\n",
              "      border-color: transparent;\n",
              "      border-right-color: var(--fill-color);\n",
              "      border-top-color: var(--fill-color);\n",
              "    }\n",
              "    60% {\n",
              "      border-color: transparent;\n",
              "      border-right-color: var(--fill-color);\n",
              "    }\n",
              "    80% {\n",
              "      border-color: transparent;\n",
              "      border-right-color: var(--fill-color);\n",
              "      border-bottom-color: var(--fill-color);\n",
              "    }\n",
              "    90% {\n",
              "      border-color: transparent;\n",
              "      border-bottom-color: var(--fill-color);\n",
              "    }\n",
              "  }\n",
              "</style>\n",
              "\n",
              "  <script>\n",
              "    async function quickchart(key) {\n",
              "      const quickchartButtonEl =\n",
              "        document.querySelector('#' + key + ' button');\n",
              "      quickchartButtonEl.disabled = true;  // To prevent multiple clicks.\n",
              "      quickchartButtonEl.classList.add('colab-df-spinner');\n",
              "      try {\n",
              "        const charts = await google.colab.kernel.invokeFunction(\n",
              "            'suggestCharts', [key], {});\n",
              "      } catch (error) {\n",
              "        console.error('Error during call to suggestCharts:', error);\n",
              "      }\n",
              "      quickchartButtonEl.classList.remove('colab-df-spinner');\n",
              "      quickchartButtonEl.classList.add('colab-df-quickchart-complete');\n",
              "    }\n",
              "    (() => {\n",
              "      let quickchartButtonEl =\n",
              "        document.querySelector('#df-8a9ff981-b8fd-4de5-b25f-175c58ad8b11 button');\n",
              "      quickchartButtonEl.style.display =\n",
              "        google.colab.kernel.accessAllowed ? 'block' : 'none';\n",
              "    })();\n",
              "  </script>\n",
              "</div>\n",
              "\n",
              "  <div id=\"id_1d039522-decb-4747-952b-ad44ee893b9c\">\n",
              "    <style>\n",
              "      .colab-df-generate {\n",
              "        background-color: #E8F0FE;\n",
              "        border: none;\n",
              "        border-radius: 50%;\n",
              "        cursor: pointer;\n",
              "        display: none;\n",
              "        fill: #1967D2;\n",
              "        height: 32px;\n",
              "        padding: 0 0 0 0;\n",
              "        width: 32px;\n",
              "      }\n",
              "\n",
              "      .colab-df-generate:hover {\n",
              "        background-color: #E2EBFA;\n",
              "        box-shadow: 0px 1px 2px rgba(60, 64, 67, 0.3), 0px 1px 3px 1px rgba(60, 64, 67, 0.15);\n",
              "        fill: #174EA6;\n",
              "      }\n",
              "\n",
              "      [theme=dark] .colab-df-generate {\n",
              "        background-color: #3B4455;\n",
              "        fill: #D2E3FC;\n",
              "      }\n",
              "\n",
              "      [theme=dark] .colab-df-generate:hover {\n",
              "        background-color: #434B5C;\n",
              "        box-shadow: 0px 1px 3px 1px rgba(0, 0, 0, 0.15);\n",
              "        filter: drop-shadow(0px 1px 2px rgba(0, 0, 0, 0.3));\n",
              "        fill: #FFFFFF;\n",
              "      }\n",
              "    </style>\n",
              "    <button class=\"colab-df-generate\" onclick=\"generateWithVariable('new_df')\"\n",
              "            title=\"Generate code using this dataframe.\"\n",
              "            style=\"display:none;\">\n",
              "\n",
              "  <svg xmlns=\"http://www.w3.org/2000/svg\" height=\"24px\"viewBox=\"0 0 24 24\"\n",
              "       width=\"24px\">\n",
              "    <path d=\"M7,19H8.4L18.45,9,17,7.55,7,17.6ZM5,21V16.75L18.45,3.32a2,2,0,0,1,2.83,0l1.4,1.43a1.91,1.91,0,0,1,.58,1.4,1.91,1.91,0,0,1-.58,1.4L9.25,21ZM18.45,9,17,7.55Zm-12,3A5.31,5.31,0,0,0,4.9,8.1,5.31,5.31,0,0,0,1,6.5,5.31,5.31,0,0,0,4.9,4.9,5.31,5.31,0,0,0,6.5,1,5.31,5.31,0,0,0,8.1,4.9,5.31,5.31,0,0,0,12,6.5,5.46,5.46,0,0,0,6.5,12Z\"/>\n",
              "  </svg>\n",
              "    </button>\n",
              "    <script>\n",
              "      (() => {\n",
              "      const buttonEl =\n",
              "        document.querySelector('#id_1d039522-decb-4747-952b-ad44ee893b9c button.colab-df-generate');\n",
              "      buttonEl.style.display =\n",
              "        google.colab.kernel.accessAllowed ? 'block' : 'none';\n",
              "\n",
              "      buttonEl.onclick = () => {\n",
              "        google.colab.notebook.generateWithVariable('new_df');\n",
              "      }\n",
              "      })();\n",
              "    </script>\n",
              "  </div>\n",
              "\n",
              "    </div>\n",
              "  </div>\n"
            ],
            "application/vnd.google.colaboratory.intrinsic+json": {
              "type": "dataframe",
              "variable_name": "new_df",
              "summary": "{\n  \"name\": \"new_df\",\n  \"rows\": 4370,\n  \"fields\": [\n    {\n      \"column\": \"longitude\",\n      \"properties\": {\n        \"dtype\": \"number\",\n        \"std\": 0.11764474169003351,\n        \"min\": -112.520168,\n        \"max\": -109.454637,\n        \"num_unique_values\": 4190,\n        \"samples\": [\n          -110.86202,\n          -110.819012,\n          -110.950734\n        ],\n        \"semantic_type\": \"\",\n        \"description\": \"\"\n      }\n    },\n    {\n      \"column\": \"latitude\",\n      \"properties\": {\n        \"dtype\": \"number\",\n        \"std\": 0.15518995686720666,\n        \"min\": 31.356362,\n        \"max\": 34.927884,\n        \"num_unique_values\": 4232,\n        \"samples\": [\n          32.327211,\n          32.30008,\n          32.327922\n        ],\n        \"semantic_type\": \"\",\n        \"description\": \"\"\n      }\n    },\n    {\n      \"column\": \"bins\",\n      \"properties\": {\n        \"dtype\": \"number\",\n        \"std\": 5,\n        \"min\": 0,\n        \"max\": 19,\n        \"num_unique_values\": 20,\n        \"samples\": [\n          19,\n          3,\n          2\n        ],\n        \"semantic_type\": \"\",\n        \"description\": \"\"\n      }\n    }\n  ]\n}"
            }
          },
          "metadata": {},
          "execution_count": 196
        }
      ]
    },
    {
      "cell_type": "markdown",
      "source": [
        "#Slicing the full dataset into training data and testing data"
      ],
      "metadata": {
        "id": "VAKsJof0sHav"
      }
    },
    {
      "cell_type": "code",
      "source": [
        "ninety_pct = 0.9*new_df.shape[0]\n",
        "\n",
        "X_train = new_df.loc[:ninety_pct-1, :]\n",
        "X_test = new_df.loc[ninety_pct:, :]\n",
        "\n",
        "X_train.shape, X_test.shape"
      ],
      "metadata": {
        "colab": {
          "base_uri": "https://localhost:8080/"
        },
        "id": "6vQmBTPCsIq3",
        "outputId": "97f65cf2-4fd3-4af2-bca5-b8a403b9a74e"
      },
      "execution_count": null,
      "outputs": [
        {
          "output_type": "execute_result",
          "data": {
            "text/plain": [
              "((3457, 3), (913, 3))"
            ]
          },
          "metadata": {},
          "execution_count": 197
        }
      ]
    },
    {
      "cell_type": "code",
      "source": [
        "X_train = X_train.to_numpy()"
      ],
      "metadata": {
        "id": "jq_Nf99NsKtJ"
      },
      "execution_count": null,
      "outputs": []
    },
    {
      "cell_type": "code",
      "source": [
        "y_train = X_train[:,2]"
      ],
      "metadata": {
        "id": "9nmr7s7zsSFA"
      },
      "execution_count": null,
      "outputs": []
    },
    {
      "cell_type": "code",
      "source": [
        "y_train"
      ],
      "metadata": {
        "colab": {
          "base_uri": "https://localhost:8080/"
        },
        "id": "EdXsq_OhtOQT",
        "outputId": "de9a6f9c-42ff-4de3-85e8-1543cba191af"
      },
      "execution_count": null,
      "outputs": [
        {
          "output_type": "execute_result",
          "data": {
            "text/plain": [
              "array([19., 19., 19., ...,  0., 13., 13.])"
            ]
          },
          "metadata": {},
          "execution_count": 200
        }
      ]
    },
    {
      "cell_type": "code",
      "source": [
        "X_train = X_train[:,:2]"
      ],
      "metadata": {
        "id": "kR9k5irotP8t"
      },
      "execution_count": null,
      "outputs": []
    },
    {
      "cell_type": "code",
      "source": [
        "X_train"
      ],
      "metadata": {
        "colab": {
          "base_uri": "https://localhost:8080/"
        },
        "id": "juuUI8DMtbXK",
        "outputId": "fb784ca5-ccb7-4933-b1cd-b25b984b6c19"
      },
      "execution_count": null,
      "outputs": [
        {
          "output_type": "execute_result",
          "data": {
            "text/plain": [
              "array([[-110.3782  ,   31.356362],\n",
              "       [-111.045371,   31.594213],\n",
              "       [-110.813768,   32.285162],\n",
              "       ...,\n",
              "       [-110.883238,   32.323465],\n",
              "       [-111.054993,   32.417093],\n",
              "       [-110.868639,   32.328159]])"
            ]
          },
          "metadata": {},
          "execution_count": 202
        }
      ]
    },
    {
      "cell_type": "markdown",
      "source": [
        "# Min Max Scaling"
      ],
      "metadata": {
        "id": "K13xh-Kut5he"
      }
    },
    {
      "cell_type": "code",
      "source": [
        "X_train = X_train - X_train.min() / (X_train.max() - X_train.min())"
      ],
      "metadata": {
        "id": "RAxV7dAxtcNf"
      },
      "execution_count": null,
      "outputs": []
    },
    {
      "cell_type": "markdown",
      "source": [
        "# Steps to be done with testing dataset"
      ],
      "metadata": {
        "id": "0XAHfGBWur4Z"
      }
    },
    {
      "cell_type": "code",
      "source": [
        "X_test = X_test.to_numpy()"
      ],
      "metadata": {
        "id": "rNEvKiWTurRt"
      },
      "execution_count": null,
      "outputs": []
    },
    {
      "cell_type": "code",
      "source": [
        "y_test = X_test[:,2]"
      ],
      "metadata": {
        "id": "LLnoyUUxu3DC"
      },
      "execution_count": null,
      "outputs": []
    },
    {
      "cell_type": "code",
      "source": [
        "X_test = X_test[:,:2]"
      ],
      "metadata": {
        "id": "TfnPXPBau6aH"
      },
      "execution_count": null,
      "outputs": []
    },
    {
      "cell_type": "code",
      "source": [
        "y_test"
      ],
      "metadata": {
        "colab": {
          "base_uri": "https://localhost:8080/"
        },
        "collapsed": true,
        "id": "59QV2x96znEi",
        "outputId": "0e955a82-2f90-4fe7-8299-6170fbc0305c"
      },
      "execution_count": null,
      "outputs": [
        {
          "output_type": "execute_result",
          "data": {
            "text/plain": [
              "array([ 6., 14.,  7.,  6.,  5.,  4., 12.,  5.,  3.,  1.,  1.,  2.,  8.,\n",
              "        7.,  9.,  2., 18.,  7.,  5.,  6.,  6., 17.,  9., 10.,  2.,  1.,\n",
              "        5., 13., 14.,  1., 11.,  5.,  1., 10.,  2.,  9.,  8., 17., 16.,\n",
              "        9., 13.,  2., 11., 13.,  4.,  3.,  4.,  0., 12., 16.,  6.,  2.,\n",
              "       11.,  1.,  5., 12., 12.,  3.,  2.,  0.,  7.,  3.,  9., 10.,  1.,\n",
              "        7., 10.,  0.,  3., 10., 19., 11.,  2.,  9.,  8., 10.,  1., 14.,\n",
              "        0.,  0.,  3.,  2.,  1.,  5.,  2.,  2., 13.,  1.,  7., 14., 12.,\n",
              "        4.,  4.,  7.,  3.,  0., 11.,  6.,  9.,  0., 19.,  5.,  5.,  7.,\n",
              "        1.,  4.,  7., 14., 12., 11., 12.,  0., 14.,  3.,  4., 12.,  3.,\n",
              "        5.,  6., 12.,  0.,  2., 10.,  7.,  5., 10.,  0.,  1., 12.,  2.,\n",
              "       11.,  8.,  5., 14.,  2., 14.,  1.,  4.,  2.,  5.,  4.,  8., 13.,\n",
              "       17.,  4.,  0.,  5., 12.,  1., 12., 14.,  2., 16.,  0., 14.,  1.,\n",
              "        6.,  8., 11., 10., 10., 15.,  4.,  9.,  7.,  3., 12., 11.,  6.,\n",
              "        6.,  2.,  4.,  1.,  9.,  7.,  2., 10.,  5., 17., 19.,  4., 13.,\n",
              "       13.,  3., 11., 10.,  6., 13.,  3.,  0.,  6., 12., 11., 10.,  1.,\n",
              "        4.,  9.,  0.,  7.,  4.,  4.,  2.,  1., 14.,  4.,  0., 13.,  4.,\n",
              "        4.,  1.,  8.,  5.,  5., 11.,  3.,  8., 11., 11., 11.,  6.,  9.,\n",
              "        6.,  5.,  0.,  5., 12.,  1., 12., 14.,  2.,  1.,  7.,  4.,  1.,\n",
              "       18., 14., 11.,  0.,  5.,  7., 12., 12., 10., 16.,  7., 10.,  2.,\n",
              "        5.,  2.,  7.,  0.,  1.,  9.,  4., 15.,  0.,  1.,  1., 13.,  7.,\n",
              "       10.,  9.,  9.,  8., 12., 11.,  2.,  8.,  7., 15.,  1.,  5.,  7.,\n",
              "        1.,  8.,  4.,  2., 12., 13.,  2.,  1.,  4.,  5.,  0.,  8., 10.,\n",
              "        7., 10., 12., 13., 12., 15.,  8.,  3.,  5.,  1.,  7.,  6.,  3.,\n",
              "        2.,  6.,  6., 11., 16., 10., 17.,  6.,  1.,  3.,  2.,  9., 10.,\n",
              "        0.,  8.,  1.,  4.,  3., 16.,  9.,  6.,  4., 11.,  4.,  8.,  1.,\n",
              "        1., 15., 10.,  5.,  5.,  2.,  9.,  4.,  3.,  0.,  2., 13., 16.,\n",
              "        5.,  3., 10.,  9.,  5.,  5.,  9.,  1.,  8.,  0.,  3.,  1.,  5.,\n",
              "        4.,  9., 16.,  2., 12.,  3., 11.,  1.,  5.,  3.,  7.,  4., 10.,\n",
              "        4., 15., 15.,  6.,  6., 17.,  3.,  4.,  2.,  6.,  2., 13.,  4.,\n",
              "        0.,  2.,  2.,  5., 16.,  7., 17.,  7.,  7.,  8.,  0.,  0.,  5.,\n",
              "        7.,  7.,  3.,  1.,  3.,  2., 14.,  3.,  3.,  1.,  0.,  1.,  1.,\n",
              "       11., 13.,  3.,  3., 13.,  3., 15., 16.,  9.,  1.,  0.,  0.,  6.,\n",
              "        0., 16., 13., 11.,  5.,  4.,  1.,  3., 11.,  0.,  8.,  3.,  2.,\n",
              "        4.,  0.,  7.,  7., 11.,  4., 14.,  3.,  4.,  0.,  3.,  4.,  9.,\n",
              "        0.,  2.,  3.,  2.,  2.,  9., 14.,  4.,  8.,  1.,  2.,  6.,  5.,\n",
              "        9.,  0.,  5., 11., 10.,  3.,  5.,  1.,  5., 13.,  8., 12.,  2.,\n",
              "        6.,  6., 13.,  2.,  3.,  7.,  0.,  8.,  8.,  8.,  5.,  5., 16.,\n",
              "        4., 13.,  6.,  9.,  5.,  5., 10.,  7.,  4.,  8., 16.,  0., 13.,\n",
              "        3., 17.,  0., 13.,  8.,  8.,  7., 15.,  1., 17., 13.,  2., 16.,\n",
              "       11., 11.,  7.,  1., 11., 18.,  4., 10.,  3.,  4.,  4.,  3.,  6.,\n",
              "        5.,  2.,  0.,  4.,  3., 13.,  8.,  4.,  8.,  6., 11.,  2., 15.,\n",
              "       14., 12.,  3.,  9., 14., 13.,  2., 10., 13.,  0.,  1.,  5.,  2.,\n",
              "        2.,  2.,  8., 16.,  0.,  9.,  0., 14.,  7.,  0.,  3.,  0.,  2.,\n",
              "       14., 11.,  4., 14., 11.,  2.,  8.,  2.,  5.,  0.,  6.,  5.,  8.,\n",
              "        6.,  7., 13., 10., 12.,  1.,  4.,  2.,  4.,  6.,  8.,  1.,  9.,\n",
              "        3.,  5.,  2.,  1.,  6.,  4.,  0.,  1.,  0.,  8., 13.,  4.,  8.,\n",
              "        9.,  7.,  8.,  0.,  1., 11.,  0.,  5.,  0., 10., 15.,  5., 10.,\n",
              "        8.,  0.,  8.,  2., 16., 12.,  9.,  6., 15., 12., 17.,  1.,  0.,\n",
              "        1., 11., 13., 15., 10., 15.,  7.,  6.,  8.,  5., 12.,  0.,  3.,\n",
              "        5.,  5., 14.,  0., 10., 16., 10.,  0.,  3.,  2.,  1.,  7.,  2.,\n",
              "        3.,  5., 15.,  2.,  1.,  0., 15.,  1.,  0.,  2.,  6.,  0.,  9.,\n",
              "        3.,  5.,  7.,  6.,  6., 13.,  8., 13.,  7.,  0.,  3.,  8.,  6.,\n",
              "        6.,  0.,  3., 10., 10.,  5., 11.,  2.,  1.,  7.,  3.,  8.,  3.,\n",
              "        0., 12.,  0.,  9.,  4.,  9., 12.,  2.,  5.,  1.,  9.,  5.,  3.,\n",
              "        3., 17.,  0., 12., 11.,  7.,  4.,  2.,  7.,  3., 15.,  3.,  6.,\n",
              "        2.,  4.,  7., 14.,  1.,  7.,  8.,  9., 11.,  6.,  3.,  5.,  4.,\n",
              "        9., 12.,  7.,  3.,  2.,  2.,  5.,  4.,  9.,  6., 14., 11.,  2.,\n",
              "       13.,  7.,  7., 17.,  6., 14.,  0.,  7.,  3.,  4., 15.,  7., 12.,\n",
              "        1.,  5., 18., 16.,  6.,  7.,  1.,  5.,  4.,  1., 14.,  0.,  0.,\n",
              "       15., 15., 17.,  8.,  3.,  0.,  1.,  8., 12.,  9.,  5.,  6.,  5.,\n",
              "        8., 18.,  1., 11.,  3.,  8.,  4.,  9.,  0.,  2.,  5., 14.,  5.,\n",
              "        1.,  4.,  2.,  4.,  8., 12.,  8., 17.,  1.,  4.,  5.,  2., 17.,\n",
              "        0.,  0.,  9., 19.,  6.,  0., 16.,  7.,  8., 10.,  5.,  9.,  4.,\n",
              "       10.,  6.,  7.,  5.,  4.,  2.,  1.,  1.,  3.,  3.,  0.,  1.,  2.,\n",
              "        4.,  9.,  8.,  0., 11.,  1.,  0., 10.,  0.,  7.,  2.,  3.,  2.,\n",
              "       14.,  3.,  6., 10.,  5.,  0.,  4.,  9.,  2., 17.,  1., 10.,  7.,\n",
              "        3., 11., 10.,  5.,  4.,  7.,  1., 12.,  6., 10., 11., 10., 16.,\n",
              "        2.,  5.,  4.,  5.,  8.,  0.,  4., 11.,  8., 10.,  9., 18., 15.,\n",
              "        3.,  3., 13., 10., 12., 15.,  7.,  6.,  0.,  5.,  1.,  8.,  4.,\n",
              "       10.,  3., 13., 16.,  1., 10.,  4.,  6.,  1.,  0.,  7.,  9.,  1.,\n",
              "        9., 16., 15.])"
            ]
          },
          "metadata": {},
          "execution_count": 212
        }
      ]
    },
    {
      "cell_type": "code",
      "source": [
        "X_test"
      ],
      "metadata": {
        "colab": {
          "base_uri": "https://localhost:8080/"
        },
        "collapsed": true,
        "id": "tdaHU9l1zpVK",
        "outputId": "c526154b-986c-4eeb-a468-199615205154"
      },
      "execution_count": null,
      "outputs": [
        {
          "output_type": "execute_result",
          "data": {
            "text/plain": [
              "array([[-110.988321,   32.38243 ],\n",
              "       [-111.00541 ,   31.838958],\n",
              "       [-110.876467,   32.305228],\n",
              "       ...,\n",
              "       [-110.820216,   32.307646],\n",
              "       [-110.922291,   32.317496],\n",
              "       [-110.858556,   32.316373]])"
            ]
          },
          "metadata": {},
          "execution_count": 213
        }
      ]
    },
    {
      "cell_type": "code",
      "source": [
        "X_test = X_test - X_test.min() / (X_test.max() - X_test.min())"
      ],
      "metadata": {
        "id": "IdmWTabuvRE6"
      },
      "execution_count": null,
      "outputs": []
    },
    {
      "cell_type": "code",
      "source": [
        "class KNNClassifier():\n",
        "\n",
        "  def fit(self,X,y):\n",
        "    self.X = X\n",
        "    self.y = y.astype(int)\n",
        "\n",
        "  def predict(self, X, K,epsilon=1e-3):\n",
        "    N = len(X)\n",
        "    y_hat = np.zeros(N)\n",
        "\n",
        "    for i in range(N):\n",
        "      dist2 = np.sum((self.X-X[i])**2, axis=1)\n",
        "      idxt = np.argsort(dist2)[:K]\n",
        "      gamma_k = 1/(np.sqrt(dist2[idxt]+epsilon))\n",
        "\n",
        "      y_hat[i] = np.bincount(self.y[idxt], weights = gamma_k).argmax()\n",
        "\n",
        "    return y_hat"
      ],
      "metadata": {
        "id": "xL5HEh3Bt7P5"
      },
      "execution_count": null,
      "outputs": []
    },
    {
      "cell_type": "code",
      "source": [
        "knnr = KNNClassifier()\n",
        "knnr.fit(X_train,y_train)"
      ],
      "metadata": {
        "id": "gWa8hVrLuBEX"
      },
      "execution_count": null,
      "outputs": []
    },
    {
      "cell_type": "code",
      "source": [
        "y_hat = knnr.predict(X_train,K=3)"
      ],
      "metadata": {
        "id": "W3lp_RlluGjS"
      },
      "execution_count": null,
      "outputs": []
    },
    {
      "cell_type": "code",
      "source": [
        "y_hat_test = knnr.predict(X_test,K=3)"
      ],
      "metadata": {
        "id": "oQjgkIGwvfPN"
      },
      "execution_count": null,
      "outputs": []
    },
    {
      "cell_type": "code",
      "source": [
        "def accuracy(y,y_hat):\n",
        "  return np.mean(y==y_hat)"
      ],
      "metadata": {
        "id": "wh5XaPWwubdN"
      },
      "execution_count": null,
      "outputs": []
    },
    {
      "cell_type": "code",
      "source": [
        "#Training dataset\n",
        "accuracy(y_train,y_hat)"
      ],
      "metadata": {
        "colab": {
          "base_uri": "https://localhost:8080/"
        },
        "id": "59XcQMW9ueeK",
        "outputId": "863bbea6-5bbf-4539-d6d6-170f1db199b7"
      },
      "execution_count": null,
      "outputs": [
        {
          "output_type": "execute_result",
          "data": {
            "text/plain": [
              "0.9091698004049754"
            ]
          },
          "metadata": {},
          "execution_count": 208
        }
      ]
    },
    {
      "cell_type": "code",
      "source": [
        "#Testing dataset\n",
        "accuracy(y_test,y_hat_test)"
      ],
      "metadata": {
        "colab": {
          "base_uri": "https://localhost:8080/"
        },
        "id": "KKvIqDLcvnLJ",
        "outputId": "2857a3b0-4db2-4097-cf20-ec205699a285"
      },
      "execution_count": null,
      "outputs": [
        {
          "output_type": "execute_result",
          "data": {
            "text/plain": [
              "0.07338444687842278"
            ]
          },
          "metadata": {},
          "execution_count": 216
        }
      ]
    },
    {
      "cell_type": "code",
      "source": [],
      "metadata": {
        "id": "Q5aQPylG0WeI"
      },
      "execution_count": null,
      "outputs": []
    }
  ]
}